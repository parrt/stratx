{
 "cells": [
  {
   "cell_type": "code",
   "execution_count": 1,
   "metadata": {},
   "outputs": [],
   "source": [
    "import numpy as np\n",
    "import pandas as pd\n",
    "from typing import Mapping, List, Tuple\n",
    "from collections import defaultdict\n",
    "import matplotlib.pyplot as plt\n",
    "from sklearn.linear_model import LinearRegression, Lasso, LogisticRegression\n",
    "from sklearn.ensemble import RandomForestClassifier\n",
    "from sklearn.ensemble import RandomForestRegressor\n",
    "from sklearn.tree import DecisionTreeRegressor, DecisionTreeClassifier\n",
    "from sklearn.datasets import load_boston, load_iris, load_wine, load_digits, \\\n",
    "    load_breast_cancer, load_diabetes, fetch_mldata\n",
    "from  matplotlib.collections import LineCollection\n",
    "import time\n",
    "from pandas.api.types import is_string_dtype, is_object_dtype, is_categorical_dtype, is_bool_dtype\n",
    "from sklearn.ensemble.partial_dependence import partial_dependence, plot_partial_dependence\n",
    "from pdpbox import pdp\n",
    "from rfpimp import *\n",
    "from scipy.integrate import cumtrapz\n",
    "from scipy.special import expit\n",
    "\n",
    "from stratpd.plot import *\n",
    "from stratpd.ice import *\n",
    "\n",
    "def df_string_to_cat(df:pd.DataFrame) -> dict:\n",
    "    catencoders = {}\n",
    "    for colname in df.columns:\n",
    "        if is_string_dtype(df[colname]) or is_object_dtype(df[colname]):\n",
    "            df[colname] = df[colname].astype('category').cat.as_ordered()\n",
    "            catencoders[colname] = df[colname].cat.categories\n",
    "    return catencoders\n",
    "\n",
    "def df_cat_to_catcode(df):\n",
    "    for col in df.columns:\n",
    "        if is_categorical_dtype(df[col]):\n",
    "            df[col] = df[col].cat.codes + 1"
   ]
  },
  {
   "cell_type": "code",
   "execution_count": 2,
   "metadata": {},
   "outputs": [
    {
     "data": {
      "text/html": [
       "<div>\n",
       "<style scoped>\n",
       "    .dataframe tbody tr th:only-of-type {\n",
       "        vertical-align: middle;\n",
       "    }\n",
       "\n",
       "    .dataframe tbody tr th {\n",
       "        vertical-align: top;\n",
       "    }\n",
       "\n",
       "    .dataframe thead th {\n",
       "        text-align: right;\n",
       "    }\n",
       "</style>\n",
       "<table border=\"1\" class=\"dataframe\">\n",
       "  <thead>\n",
       "    <tr style=\"text-align: right;\">\n",
       "      <th></th>\n",
       "      <th>x1</th>\n",
       "      <th>y</th>\n",
       "    </tr>\n",
       "  </thead>\n",
       "  <tbody>\n",
       "    <tr>\n",
       "      <th>0</th>\n",
       "      <td>-5.000000</td>\n",
       "      <td>0</td>\n",
       "    </tr>\n",
       "    <tr>\n",
       "      <th>1</th>\n",
       "      <td>-4.444444</td>\n",
       "      <td>0</td>\n",
       "    </tr>\n",
       "    <tr>\n",
       "      <th>2</th>\n",
       "      <td>-3.888889</td>\n",
       "      <td>0</td>\n",
       "    </tr>\n",
       "    <tr>\n",
       "      <th>3</th>\n",
       "      <td>-3.333333</td>\n",
       "      <td>0</td>\n",
       "    </tr>\n",
       "    <tr>\n",
       "      <th>4</th>\n",
       "      <td>-2.777778</td>\n",
       "      <td>0</td>\n",
       "    </tr>\n",
       "    <tr>\n",
       "      <th>5</th>\n",
       "      <td>-2.222222</td>\n",
       "      <td>0</td>\n",
       "    </tr>\n",
       "    <tr>\n",
       "      <th>6</th>\n",
       "      <td>-1.666667</td>\n",
       "      <td>0</td>\n",
       "    </tr>\n",
       "    <tr>\n",
       "      <th>7</th>\n",
       "      <td>-1.111111</td>\n",
       "      <td>0</td>\n",
       "    </tr>\n",
       "    <tr>\n",
       "      <th>8</th>\n",
       "      <td>-0.555556</td>\n",
       "      <td>0</td>\n",
       "    </tr>\n",
       "    <tr>\n",
       "      <th>9</th>\n",
       "      <td>0.000000</td>\n",
       "      <td>1</td>\n",
       "    </tr>\n",
       "    <tr>\n",
       "      <th>10</th>\n",
       "      <td>0.555556</td>\n",
       "      <td>1</td>\n",
       "    </tr>\n",
       "    <tr>\n",
       "      <th>11</th>\n",
       "      <td>1.111111</td>\n",
       "      <td>1</td>\n",
       "    </tr>\n",
       "    <tr>\n",
       "      <th>12</th>\n",
       "      <td>1.666667</td>\n",
       "      <td>1</td>\n",
       "    </tr>\n",
       "    <tr>\n",
       "      <th>13</th>\n",
       "      <td>2.222222</td>\n",
       "      <td>1</td>\n",
       "    </tr>\n",
       "    <tr>\n",
       "      <th>14</th>\n",
       "      <td>2.777778</td>\n",
       "      <td>1</td>\n",
       "    </tr>\n",
       "    <tr>\n",
       "      <th>15</th>\n",
       "      <td>3.333333</td>\n",
       "      <td>1</td>\n",
       "    </tr>\n",
       "    <tr>\n",
       "      <th>16</th>\n",
       "      <td>3.888889</td>\n",
       "      <td>1</td>\n",
       "    </tr>\n",
       "    <tr>\n",
       "      <th>17</th>\n",
       "      <td>4.444444</td>\n",
       "      <td>1</td>\n",
       "    </tr>\n",
       "    <tr>\n",
       "      <th>18</th>\n",
       "      <td>5.000000</td>\n",
       "      <td>1</td>\n",
       "    </tr>\n",
       "  </tbody>\n",
       "</table>\n",
       "</div>"
      ],
      "text/plain": [
       "          x1  y\n",
       "0  -5.000000  0\n",
       "1  -4.444444  0\n",
       "2  -3.888889  0\n",
       "3  -3.333333  0\n",
       "4  -2.777778  0\n",
       "5  -2.222222  0\n",
       "6  -1.666667  0\n",
       "7  -1.111111  0\n",
       "8  -0.555556  0\n",
       "9   0.000000  1\n",
       "10  0.555556  1\n",
       "11  1.111111  1\n",
       "12  1.666667  1\n",
       "13  2.222222  1\n",
       "14  2.777778  1\n",
       "15  3.333333  1\n",
       "16  3.888889  1\n",
       "17  4.444444  1\n",
       "18  5.000000  1"
      ]
     },
     "execution_count": 2,
     "metadata": {},
     "output_type": "execute_result"
    }
   ],
   "source": [
    "df = pd.DataFrame()\n",
    "a,b = -5,5\n",
    "n = 20\n",
    "df['x1'] = np.linspace(a,b,n-1)\n",
    "df['y']  = np.where(df['x1'].values<0, 0, 1)\n",
    "df"
   ]
  },
  {
   "cell_type": "code",
   "execution_count": 3,
   "metadata": {},
   "outputs": [
    {
     "data": {
      "text/plain": [
       "LogisticRegression(C=1.0, class_weight=None, dual=False, fit_intercept=True,\n",
       "          intercept_scaling=1, max_iter=100, multi_class='warn',\n",
       "          n_jobs=None, penalty='l2', random_state=None, solver='warn',\n",
       "          tol=0.0001, verbose=0, warm_start=False)"
      ]
     },
     "execution_count": 3,
     "metadata": {},
     "output_type": "execute_result"
    }
   ],
   "source": [
    "X, y = df[['x1']], df['y']\n",
    "lr = LinearRegression()\n",
    "lr.fit(X, y)\n",
    "logr = LogisticRegression()\n",
    "logr.fit(X, y)"
   ]
  },
  {
   "cell_type": "code",
   "execution_count": 4,
   "metadata": {},
   "outputs": [
    {
     "name": "stdout",
     "output_type": "stream",
     "text": [
      "odds [1.00339841e-03 2.21467853e-03 4.88818891e-03 1.07891012e-02\n",
      " 2.38134628e-02 5.25605425e-02 1.16010454e-01 2.56055678e-01\n",
      " 5.65160364e-01 1.24740931e+00 2.75325393e+00 6.07692049e+00\n",
      " 1.34128430e+01 2.96045269e+01 6.53424496e+01 1.44222393e+02\n",
      " 3.18324439e+02 7.02598582e+02 1.55075987e+03]\n",
      "p [0.00100239 0.00220978 0.00486441 0.01067394 0.02325957 0.04993589\n",
      " 0.10395105 0.20385695 0.36108783 0.55504323 0.73356452 0.8586956\n",
      " 0.93061744 0.9673251  0.98492669 0.99311401 0.99686839 0.99857874\n",
      " 0.99935557]\n"
     ]
    },
    {
     "data": {
      "image/png": "[encoded data removed]",
      "text/plain": [
       "<Figure size 432x288 with 1 Axes>"
      ]
     },
     "metadata": {
      "needs_background": "light"
     },
     "output_type": "display_data"
    }
   ],
   "source": [
    "fig, ax = plt.subplots(1, 1)\n",
    "\n",
    "def sigmoid(x): return 1 / (1 + np.exp(-x))\n",
    "\n",
    "ax.scatter(X.values, y)\n",
    "ax.plot(X.values, lr.predict(X), c='orange')\n",
    "ax.plot(X.values, logr.predict(X), c='green')\n",
    "y_ = logr.predict(X.values)\n",
    "y_ = X.values * logr.coef_[0] + logr.intercept_\n",
    "#print(y_)\n",
    "odds = np.exp(y_).ravel()\n",
    "print(f\"odds {odds}\")\n",
    "p = odds / (1 + odds)\n",
    "print(f\"p {p}\")\n",
    "ax.plot(X.values, sigmoid(y_), c='blue')\n",
    "#ax.plot(X.values, (expit(lr.predict(X))), c='maroon')\n",
    "\n",
    "#ax.legend()\n",
    "plt.show()"
   ]
  },
  {
   "cell_type": "code",
   "execution_count": 5,
   "metadata": {},
   "outputs": [
    {
     "data": {
      "text/plain": [
       "(0.14210526315789468, array([1.4250863]))"
      ]
     },
     "execution_count": 5,
     "metadata": {},
     "output_type": "execute_result"
    }
   ],
   "source": [
    "lr.coef_[0], logr.coef_[0]"
   ]
  },
  {
   "cell_type": "code",
   "execution_count": 6,
   "metadata": {},
   "outputs": [
    {
     "data": {
      "text/plain": [
       "(0.5263157894736842, array([0.22106885]))"
      ]
     },
     "execution_count": 6,
     "metadata": {},
     "output_type": "execute_result"
    }
   ],
   "source": [
    "lr.intercept_, logr.intercept_"
   ]
  },
  {
   "cell_type": "code",
   "execution_count": 7,
   "metadata": {},
   "outputs": [
    {
     "data": {
      "text/plain": [
       "LinearRegression(copy_X=True, fit_intercept=True, n_jobs=None,\n",
       "         normalize=False)"
      ]
     },
     "execution_count": 7,
     "metadata": {},
     "output_type": "execute_result"
    }
   ],
   "source": [
    "lr2 = LinearRegression()\n",
    "lr2.fit(X, y)"
   ]
  },
  {
   "cell_type": "markdown",
   "metadata": {},
   "source": [
    "# scikit-learn's one-vs-rest OVR"
   ]
  },
  {
   "cell_type": "code",
   "execution_count": 8,
   "metadata": {},
   "outputs": [
    {
     "data": {
      "text/html": [
       "<div>\n",
       "<style scoped>\n",
       "    .dataframe tbody tr th:only-of-type {\n",
       "        vertical-align: middle;\n",
       "    }\n",
       "\n",
       "    .dataframe tbody tr th {\n",
       "        vertical-align: top;\n",
       "    }\n",
       "\n",
       "    .dataframe thead th {\n",
       "        text-align: right;\n",
       "    }\n",
       "</style>\n",
       "<table border=\"1\" class=\"dataframe\">\n",
       "  <thead>\n",
       "    <tr style=\"text-align: right;\">\n",
       "      <th></th>\n",
       "      <th>x1</th>\n",
       "      <th>y</th>\n",
       "    </tr>\n",
       "  </thead>\n",
       "  <tbody>\n",
       "    <tr>\n",
       "      <th>0</th>\n",
       "      <td>0.000000</td>\n",
       "      <td>1</td>\n",
       "    </tr>\n",
       "    <tr>\n",
       "      <th>1</th>\n",
       "      <td>0.526316</td>\n",
       "      <td>1</td>\n",
       "    </tr>\n",
       "    <tr>\n",
       "      <th>2</th>\n",
       "      <td>1.052632</td>\n",
       "      <td>1</td>\n",
       "    </tr>\n",
       "    <tr>\n",
       "      <th>3</th>\n",
       "      <td>1.578947</td>\n",
       "      <td>1</td>\n",
       "    </tr>\n",
       "    <tr>\n",
       "      <th>4</th>\n",
       "      <td>2.105263</td>\n",
       "      <td>1</td>\n",
       "    </tr>\n",
       "    <tr>\n",
       "      <th>5</th>\n",
       "      <td>2.631579</td>\n",
       "      <td>1</td>\n",
       "    </tr>\n",
       "    <tr>\n",
       "      <th>6</th>\n",
       "      <td>3.157895</td>\n",
       "      <td>2</td>\n",
       "    </tr>\n",
       "    <tr>\n",
       "      <th>7</th>\n",
       "      <td>3.684211</td>\n",
       "      <td>2</td>\n",
       "    </tr>\n",
       "    <tr>\n",
       "      <th>8</th>\n",
       "      <td>4.210526</td>\n",
       "      <td>2</td>\n",
       "    </tr>\n",
       "    <tr>\n",
       "      <th>9</th>\n",
       "      <td>4.736842</td>\n",
       "      <td>2</td>\n",
       "    </tr>\n",
       "    <tr>\n",
       "      <th>10</th>\n",
       "      <td>5.263158</td>\n",
       "      <td>2</td>\n",
       "    </tr>\n",
       "    <tr>\n",
       "      <th>11</th>\n",
       "      <td>5.789474</td>\n",
       "      <td>2</td>\n",
       "    </tr>\n",
       "    <tr>\n",
       "      <th>12</th>\n",
       "      <td>6.315789</td>\n",
       "      <td>2</td>\n",
       "    </tr>\n",
       "    <tr>\n",
       "      <th>13</th>\n",
       "      <td>6.842105</td>\n",
       "      <td>2</td>\n",
       "    </tr>\n",
       "    <tr>\n",
       "      <th>14</th>\n",
       "      <td>7.368421</td>\n",
       "      <td>3</td>\n",
       "    </tr>\n",
       "    <tr>\n",
       "      <th>15</th>\n",
       "      <td>7.894737</td>\n",
       "      <td>3</td>\n",
       "    </tr>\n",
       "    <tr>\n",
       "      <th>16</th>\n",
       "      <td>8.421053</td>\n",
       "      <td>3</td>\n",
       "    </tr>\n",
       "    <tr>\n",
       "      <th>17</th>\n",
       "      <td>8.947368</td>\n",
       "      <td>3</td>\n",
       "    </tr>\n",
       "    <tr>\n",
       "      <th>18</th>\n",
       "      <td>9.473684</td>\n",
       "      <td>3</td>\n",
       "    </tr>\n",
       "    <tr>\n",
       "      <th>19</th>\n",
       "      <td>10.000000</td>\n",
       "      <td>3</td>\n",
       "    </tr>\n",
       "  </tbody>\n",
       "</table>\n",
       "</div>"
      ],
      "text/plain": [
       "           x1  y\n",
       "0    0.000000  1\n",
       "1    0.526316  1\n",
       "2    1.052632  1\n",
       "3    1.578947  1\n",
       "4    2.105263  1\n",
       "5    2.631579  1\n",
       "6    3.157895  2\n",
       "7    3.684211  2\n",
       "8    4.210526  2\n",
       "9    4.736842  2\n",
       "10   5.263158  2\n",
       "11   5.789474  2\n",
       "12   6.315789  2\n",
       "13   6.842105  2\n",
       "14   7.368421  3\n",
       "15   7.894737  3\n",
       "16   8.421053  3\n",
       "17   8.947368  3\n",
       "18   9.473684  3\n",
       "19  10.000000  3"
      ]
     },
     "execution_count": 8,
     "metadata": {},
     "output_type": "execute_result"
    }
   ],
   "source": [
    "df = pd.DataFrame()\n",
    "a,b = 0,10\n",
    "n = 20\n",
    "df['x1'] = np.linspace(a,b,n)\n",
    "#df['x2'] = np.random.uniform(a,b,size=n)\n",
    "df['y']  = np.where(df['x1'].values<7, np.where(df['x1'].values<3, 1, 2), 3)\n",
    "# df['y']  = np.where(df['x1'].values<0, 2, 3)\n",
    "df"
   ]
  },
  {
   "cell_type": "code",
   "execution_count": 9,
   "metadata": {},
   "outputs": [
    {
     "name": "stdout",
     "output_type": "stream",
     "text": [
      "[1 2 3]\n",
      "[ 4.10541967 -0.37643867 -5.61840483]\n",
      "[-1.53660929 -0.00424127  0.81657241]\n"
     ]
    }
   ],
   "source": [
    "X, y = df[['x1']], df['y']\n",
    "logr = LogisticRegression(multi_class='ovr', C=10) # no regularization\n",
    "logr.fit(X, y)\n",
    "print(logr.classes_)\n",
    "print(logr.intercept_)\n",
    "print(logr.coef_.flatten())"
   ]
  },
  {
   "cell_type": "code",
   "execution_count": 10,
   "metadata": {},
   "outputs": [
    {
     "name": "stdout",
     "output_type": "stream",
     "text": [
      "[[7.05531357e-01 2.91874461e-01 2.59418205e-03]\n",
      " [7.00651795e-01 2.95316640e-01 4.03156501e-03]\n",
      " [6.90206657e-01 3.03437292e-01 6.35605090e-03]\n",
      " [6.68262951e-01 3.21422696e-01 1.03143523e-02]\n",
      " [6.24013509e-01 3.58409371e-01 1.75771196e-02]\n",
      " [5.42601892e-01 4.25614314e-01 3.17837945e-02]\n",
      " [4.17010717e-01 5.23756516e-01 5.92327675e-02]\n",
      " [2.69754302e-01 6.24205934e-01 1.06039764e-01]\n",
      " [1.45589740e-01 6.82347002e-01 1.72063258e-01]\n",
      " [6.80721675e-02 6.81230095e-01 2.50697737e-01]\n",
      " [2.90298001e-02 6.36843165e-01 3.34127035e-01]\n",
      " [1.17643804e-02 5.72766237e-01 4.15469383e-01]\n",
      " [4.66041757e-03 5.06402343e-01 4.88937239e-01]\n",
      " [1.84069328e-03 4.47521846e-01 5.50637461e-01]\n",
      " [7.34580678e-04 4.00060818e-01 5.99204602e-01]\n",
      " [2.98421695e-04 3.64241845e-01 6.35459734e-01]\n",
      " [1.23687666e-04 3.38420151e-01 6.61456161e-01]\n",
      " [5.22295666e-05 3.20375841e-01 6.79571930e-01]\n",
      " [2.23974112e-05 3.08016232e-01 6.91961370e-01]\n",
      " [9.71836738e-06 2.99646828e-01 7.00343453e-01]]\n"
     ]
    },
    {
     "data": {
      "image/png": "[encoded data removed]",
      "text/plain": [
       "<Figure size 432x288 with 1 Axes>"
      ]
     },
     "metadata": {
      "needs_background": "light"
     },
     "output_type": "display_data"
    }
   ],
   "source": [
    "fig, ax = plt.subplots(1, 1)\n",
    "\n",
    "def sigmoid(x): return 1 / (1 + np.exp(-x))\n",
    "def logodds2prob(x): return 1 / (1 + np.exp(x))\n",
    "\n",
    "ax.scatter(X.values, y)\n",
    "ax.plot(X.values, logr.predict(X), c='maroon')\n",
    "print(logr.predict_proba(X))\n",
    "y_ = logr.predict(X.values)\n",
    "coef = logr.coef_.flatten()\n",
    "y1 = X.values * coef[0] + logr.intercept_[0]\n",
    "y2 = X.values * coef[1] + logr.intercept_[1]\n",
    "y3 = X.values * coef[2] + logr.intercept_[2]\n",
    "p1 = 1-logodds2prob(y1) # sklearn is treating the y values in weird way; needed to flip probabilities\n",
    "p2 = 1-logodds2prob(y2)\n",
    "p3 = 1-logodds2prob(y3)\n",
    "ax.plot(X.values, p1, label='p1')\n",
    "ax.plot(X.values, p2, label='p2')\n",
    "ax.plot(X.values, p3, label='p3')\n",
    "\n",
    "#print(y_)\n",
    "odds = np.exp(y_).ravel()\n",
    "#print(f\"odds {odds}\")\n",
    "p = odds / (1 + odds)\n",
    "#print(f\"p {p}\")\n",
    "#ax.plot(X.values, sigmoid(y_), c='blue')\n",
    "#ax.plot(X.values, (expit(lr.predict(X))), c='maroon')\n",
    "\n",
    "ax.legend()\n",
    "plt.show()"
   ]
  },
  {
   "cell_type": "markdown",
   "metadata": {},
   "source": [
    "# Try doing one-vs-rest using binary log regr"
   ]
  },
  {
   "cell_type": "code",
   "execution_count": 14,
   "metadata": {},
   "outputs": [
    {
     "data": {
      "text/html": [
       "<div>\n",
       "<style scoped>\n",
       "    .dataframe tbody tr th:only-of-type {\n",
       "        vertical-align: middle;\n",
       "    }\n",
       "\n",
       "    .dataframe tbody tr th {\n",
       "        vertical-align: top;\n",
       "    }\n",
       "\n",
       "    .dataframe thead th {\n",
       "        text-align: right;\n",
       "    }\n",
       "</style>\n",
       "<table border=\"1\" class=\"dataframe\">\n",
       "  <thead>\n",
       "    <tr style=\"text-align: right;\">\n",
       "      <th></th>\n",
       "      <th>x1</th>\n",
       "      <th>y</th>\n",
       "    </tr>\n",
       "  </thead>\n",
       "  <tbody>\n",
       "    <tr>\n",
       "      <th>0</th>\n",
       "      <td>0.000000</td>\n",
       "      <td>1</td>\n",
       "    </tr>\n",
       "    <tr>\n",
       "      <th>1</th>\n",
       "      <td>0.526316</td>\n",
       "      <td>1</td>\n",
       "    </tr>\n",
       "    <tr>\n",
       "      <th>2</th>\n",
       "      <td>1.052632</td>\n",
       "      <td>1</td>\n",
       "    </tr>\n",
       "    <tr>\n",
       "      <th>3</th>\n",
       "      <td>1.578947</td>\n",
       "      <td>1</td>\n",
       "    </tr>\n",
       "    <tr>\n",
       "      <th>4</th>\n",
       "      <td>2.105263</td>\n",
       "      <td>1</td>\n",
       "    </tr>\n",
       "    <tr>\n",
       "      <th>5</th>\n",
       "      <td>2.631579</td>\n",
       "      <td>1</td>\n",
       "    </tr>\n",
       "    <tr>\n",
       "      <th>6</th>\n",
       "      <td>3.157895</td>\n",
       "      <td>2</td>\n",
       "    </tr>\n",
       "    <tr>\n",
       "      <th>7</th>\n",
       "      <td>3.684211</td>\n",
       "      <td>2</td>\n",
       "    </tr>\n",
       "    <tr>\n",
       "      <th>8</th>\n",
       "      <td>4.210526</td>\n",
       "      <td>2</td>\n",
       "    </tr>\n",
       "    <tr>\n",
       "      <th>9</th>\n",
       "      <td>4.736842</td>\n",
       "      <td>2</td>\n",
       "    </tr>\n",
       "    <tr>\n",
       "      <th>10</th>\n",
       "      <td>5.263158</td>\n",
       "      <td>2</td>\n",
       "    </tr>\n",
       "    <tr>\n",
       "      <th>11</th>\n",
       "      <td>5.789474</td>\n",
       "      <td>2</td>\n",
       "    </tr>\n",
       "    <tr>\n",
       "      <th>12</th>\n",
       "      <td>6.315789</td>\n",
       "      <td>2</td>\n",
       "    </tr>\n",
       "    <tr>\n",
       "      <th>13</th>\n",
       "      <td>6.842105</td>\n",
       "      <td>2</td>\n",
       "    </tr>\n",
       "    <tr>\n",
       "      <th>14</th>\n",
       "      <td>7.368421</td>\n",
       "      <td>3</td>\n",
       "    </tr>\n",
       "    <tr>\n",
       "      <th>15</th>\n",
       "      <td>7.894737</td>\n",
       "      <td>3</td>\n",
       "    </tr>\n",
       "    <tr>\n",
       "      <th>16</th>\n",
       "      <td>8.421053</td>\n",
       "      <td>3</td>\n",
       "    </tr>\n",
       "    <tr>\n",
       "      <th>17</th>\n",
       "      <td>8.947368</td>\n",
       "      <td>3</td>\n",
       "    </tr>\n",
       "    <tr>\n",
       "      <th>18</th>\n",
       "      <td>9.473684</td>\n",
       "      <td>3</td>\n",
       "    </tr>\n",
       "    <tr>\n",
       "      <th>19</th>\n",
       "      <td>10.000000</td>\n",
       "      <td>3</td>\n",
       "    </tr>\n",
       "  </tbody>\n",
       "</table>\n",
       "</div>"
      ],
      "text/plain": [
       "           x1  y\n",
       "0    0.000000  1\n",
       "1    0.526316  1\n",
       "2    1.052632  1\n",
       "3    1.578947  1\n",
       "4    2.105263  1\n",
       "5    2.631579  1\n",
       "6    3.157895  2\n",
       "7    3.684211  2\n",
       "8    4.210526  2\n",
       "9    4.736842  2\n",
       "10   5.263158  2\n",
       "11   5.789474  2\n",
       "12   6.315789  2\n",
       "13   6.842105  2\n",
       "14   7.368421  3\n",
       "15   7.894737  3\n",
       "16   8.421053  3\n",
       "17   8.947368  3\n",
       "18   9.473684  3\n",
       "19  10.000000  3"
      ]
     },
     "execution_count": 14,
     "metadata": {},
     "output_type": "execute_result"
    }
   ],
   "source": [
    "df = pd.DataFrame()\n",
    "a,b = 0,10\n",
    "n = 20\n",
    "df['x1'] = np.linspace(a,b,n)\n",
    "df['y']  = np.where(df['x1'].values<7, np.where(df['x1'].values<3, 1, 2), 3)\n",
    "df"
   ]
  },
  {
   "cell_type": "code",
   "execution_count": 15,
   "metadata": {},
   "outputs": [
    {
     "name": "stdout",
     "output_type": "stream",
     "text": [
      "Class 1 intercept [-4.10541967] beta [1.53660929]\n",
      "[9.83784187e-01 9.64314669e-01 9.23291764e-01 8.42797837e-01\n",
      " 7.04839895e-01 5.15422858e-01 3.21468635e-01 1.74254109e-01\n",
      " 8.59190003e-02 4.01846467e-02 1.83069546e-02 8.23788701e-03\n",
      " 3.68614500e-03 1.64523927e-03 7.33488712e-04 3.26842151e-04\n",
      " 1.45607825e-04 6.48616086e-05 2.88915782e-05 1.28690400e-05]\n",
      "Class 2 intercept [0.37643867] beta [0.00424127]\n",
      "[0.40698613 0.4064475  0.40590908 0.4053709  0.40483294 0.40429521\n",
      " 0.40375771 0.40322044 0.4026834  0.4021466  0.40161003 0.4010737\n",
      " 0.4005376  0.40000174 0.39946612 0.39893074 0.3983956  0.39786071\n",
      " 0.39732606 0.39679165]\n",
      "Class 3 intercept [5.61840483] beta [-0.81657241]\n",
      "[0.0036173  0.00554869 0.00850251 0.01300822 0.01985383 0.03019174\n",
      " 0.04566184 0.06849887 0.1015422  0.14799294 0.21070929 0.29092818\n",
      " 0.38672362 0.49216802 0.59831387 0.69597831 0.77868066 0.84393058\n",
      " 0.89259673 0.92739321]\n"
     ]
    }
   ],
   "source": [
    "X, y = df[['x1']], df['y']\n",
    "classes = np.unique(y)\n",
    "\n",
    "intercepts = []\n",
    "coefs = []\n",
    "for c in classes:\n",
    "    logr = LogisticRegression(multi_class='ovr', C=10) # no regularization\n",
    "    y_ = np.where(y!=c, 1, 0)\n",
    "    logr.fit(X, y_)\n",
    "    coef = logr.coef_.flatten()\n",
    "    coefs.append(coef[0])\n",
    "    intercepts.append(logr.intercept_)\n",
    "\n",
    "    print(f\"Class {c}\", 'intercept', logr.intercept_, 'beta', logr.coef_.flatten())\n",
    "    print(logr.predict_proba(X)[:,0])\n",
    "    \n",
    "coefs = np.array(coefs)\n",
    "intercepts = np.array(intercepts)"
   ]
  },
  {
   "cell_type": "code",
   "execution_count": 16,
   "metadata": {},
   "outputs": [
    {
     "data": {
      "image/png": "[encoded data removed]",
      "text/plain": [
       "<Figure size 432x288 with 1 Axes>"
      ]
     },
     "metadata": {
      "needs_background": "light"
     },
     "output_type": "display_data"
    }
   ],
   "source": [
    "fig, ax = plt.subplots(1, 1)\n",
    "\n",
    "def sigmoid(x): return 1 / (1 + np.exp(-x))\n",
    "def logodds2prob(x): return 1 / (1 + np.exp(x))\n",
    "\n",
    "ax.scatter(X.values, y)\n",
    "for ci,c in enumerate(classes):\n",
    "    logodds = X.values * coefs[ci] + intercepts[ci]\n",
    "    p = logodds2prob(logodds)\n",
    "    ax.plot(X.values, p, label=f'class{c}')\n",
    "\n",
    "ax.legend()\n",
    "plt.show()"
   ]
  },
  {
   "cell_type": "markdown",
   "metadata": {},
   "source": [
    "ok, same results but before it seemed to flip 1 vs {2,3} etc... so same after 1-p. it looks like sklearn in multinomial mode is ensuring the probabilities from predict_probab all sum to 1 for any x\n",
    "\n",
    "To go from binary case which gives one coeff, negate beta and intercept to get other."
   ]
  },
  {
   "cell_type": "code",
   "execution_count": null,
   "metadata": {},
   "outputs": [],
   "source": []
  },
  {
   "cell_type": "code",
   "execution_count": null,
   "metadata": {},
   "outputs": [],
   "source": []
  }
 ],
 "metadata": {
  "kernelspec": {
   "display_name": "Python 3",
   "language": "python",
   "name": "python3"
  },
  "language_info": {
   "codemirror_mode": {
    "name": "ipython",
    "version": 3
   },
   "file_extension": ".py",
   "mimetype": "text/x-python",
   "name": "python",
   "nbconvert_exporter": "python",
   "pygments_lexer": "ipython3",
   "version": "3.7.1"
  }
 },
 "nbformat": 4,
 "nbformat_minor": 2
}
