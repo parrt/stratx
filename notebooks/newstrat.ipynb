{
 "cells": [
  {
   "cell_type": "code",
   "execution_count": 4,
   "metadata": {},
   "outputs": [],
   "source": [
    "import numpy as np\n",
    "import pandas as pd\n",
    "from typing import Mapping, List, Tuple\n",
    "from collections import defaultdict\n",
    "import matplotlib.pyplot as plt\n",
    "from sklearn.linear_model import LinearRegression, Lasso\n",
    "from sklearn.ensemble import RandomForestClassifier\n",
    "from sklearn.ensemble import RandomForestRegressor\n",
    "from sklearn.datasets import load_boston, load_iris, load_wine, load_digits, \\\n",
    "    load_breast_cancer, load_diabetes, fetch_mldata\n",
    "from  matplotlib.collections import LineCollection\n",
    "import time\n",
    "from pandas.api.types import is_string_dtype, is_object_dtype, is_categorical_dtype, is_bool_dtype\n",
    "from sklearn.ensemble.partial_dependence import partial_dependence, plot_partial_dependence\n",
    "from pdpbox import pdp\n",
    "from rfpimp import *\n",
    "from scipy.integrate import cumtrapz\n",
    "# from stratx.plot import *\n",
    "# from stratx.ice import *\n",
    "\n",
    "%config InlineBackend.figure_formats = ['png']\n",
    "\n",
    "def df_string_to_cat(df:pd.DataFrame) -> dict:\n",
    "    catencoders = {}\n",
    "    for colname in df.columns:\n",
    "        if is_string_dtype(df[colname]) or is_object_dtype(df[colname]):\n",
    "            df[colname] = df[colname].astype('category').cat.as_ordered()\n",
    "            catencoders[colname] = df[colname].cat.categories\n",
    "    return catencoders\n",
    "\n",
    "\n",
    "def df_cat_to_catcode(df):\n",
    "    for col in df.columns:\n",
    "        if is_categorical_dtype(df[col]):\n",
    "            df[col] = df[col].cat.codes + 1"
   ]
  },
  {
   "cell_type": "code",
   "execution_count": 7,
   "metadata": {},
   "outputs": [],
   "source": [
    "def load_rent():\n",
    "    \"\"\"\n",
    "    *Data use rules prevent us from storing this data in this repo*. Download the data\n",
    "    set from Kaggle. (You must be a registered Kaggle user and must be logged in.)\n",
    "    Go to the Kaggle [data page](https://www.kaggle.com/c/two-sigma-connect-rental-listing-inquiries/data)\n",
    "    and save `train.json`\n",
    "    :return:\n",
    "    \"\"\"\n",
    "    df = pd.read_json('data/train.json')\n",
    "\n",
    "    # Create ideal numeric data set w/o outliers etc...\n",
    "    df = df[(df.price > 1_000) & (df.price < 10_000)]\n",
    "    df = df[df.bathrooms <= 4]  # There's almost no data for above with small sample\n",
    "    df = df[(df.longitude != 0) | (df.latitude != 0)]\n",
    "    df = df[(df['latitude'] > 40.55) & (df['latitude'] < 40.94) &\n",
    "            (df['longitude'] > -74.1) & (df['longitude'] < -73.67)]\n",
    "    df = df.sort_values('created')\n",
    "    df_rent = df[['bedrooms', 'bathrooms', 'latitude', 'longitude', 'price']]\n",
    "\n",
    "    return df_rent"
   ]
  },
  {
   "cell_type": "code",
   "execution_count": 24,
   "metadata": {},
   "outputs": [],
   "source": [
    "def leaf_samples(rf, X:np.ndarray):\n",
    "    \"\"\"\n",
    "    Return a list of arrays where each array is the set of X sample indexes\n",
    "    residing in a single leaf of some tree in rf forest.\n",
    "    \"\"\"\n",
    "    ntrees = len(rf.estimators_)\n",
    "    leaf_ids = rf.apply(X) # which leaf does each X_i go to for each tree?\n",
    "    d = pd.DataFrame(leaf_ids, columns=[f\"tree{i}\" for i in range(ntrees)])\n",
    "    d = d.reset_index() # get 0..n-1 as column called index so we can do groupby\n",
    "    \"\"\"\n",
    "    d looks like:\n",
    "        index\ttree0\ttree1\ttree2\ttree3\ttree4\n",
    "    0\t0\t    8\t    3\t    4\t    4\t    3\n",
    "    1\t1\t    8\t    3\t    4\t    4\t    3\n",
    "    \"\"\"\n",
    "    leaf_samples = []\n",
    "    for i in range(ntrees):\n",
    "        \"\"\"\n",
    "        Each groupby gets a list of all X indexes associated with same leaf. 4 leaves would\n",
    "        get 4 arrays of X indexes; e.g.,\n",
    "        array([array([0, 1, 2, 3, 4, 5, 6, 7, 8, 9]),\n",
    "               array([10, 11, 12, 13, 14, 15]), array([16, 17, 18, 19, 20]),\n",
    "               array([21, 22, 23, 24, 25, 26, 27, 28, 29]), ... )\n",
    "        \"\"\"\n",
    "        sample_idxs_in_leaf = d.groupby(f'tree{i}')['index'].apply(lambda x: x.values)\n",
    "        leaf_samples.extend(sample_idxs_in_leaf) # add [...sample idxs...] for each leaf\n",
    "    return leaf_samples"
   ]
  },
  {
   "cell_type": "code",
   "execution_count": 81,
   "metadata": {},
   "outputs": [
    {
     "data": {
      "text/html": [
       "<div>\n",
       "<style scoped>\n",
       "    .dataframe tbody tr th:only-of-type {\n",
       "        vertical-align: middle;\n",
       "    }\n",
       "\n",
       "    .dataframe tbody tr th {\n",
       "        vertical-align: top;\n",
       "    }\n",
       "\n",
       "    .dataframe thead th {\n",
       "        text-align: right;\n",
       "    }\n",
       "</style>\n",
       "<table border=\"1\" class=\"dataframe\">\n",
       "  <thead>\n",
       "    <tr style=\"text-align: right;\">\n",
       "      <th></th>\n",
       "      <th>bedrooms</th>\n",
       "      <th>bathrooms</th>\n",
       "      <th>latitude</th>\n",
       "      <th>longitude</th>\n",
       "      <th>price</th>\n",
       "    </tr>\n",
       "  </thead>\n",
       "  <tbody>\n",
       "    <tr>\n",
       "      <th>42550</th>\n",
       "      <td>1</td>\n",
       "      <td>1.0</td>\n",
       "      <td>40.7730</td>\n",
       "      <td>-73.9558</td>\n",
       "      <td>2275</td>\n",
       "    </tr>\n",
       "    <tr>\n",
       "      <th>10260</th>\n",
       "      <td>3</td>\n",
       "      <td>1.0</td>\n",
       "      <td>40.6895</td>\n",
       "      <td>-73.9566</td>\n",
       "      <td>2725</td>\n",
       "    </tr>\n",
       "    <tr>\n",
       "      <th>7428</th>\n",
       "      <td>2</td>\n",
       "      <td>1.0</td>\n",
       "      <td>40.6774</td>\n",
       "      <td>-73.9487</td>\n",
       "      <td>2575</td>\n",
       "    </tr>\n",
       "  </tbody>\n",
       "</table>\n",
       "</div>"
      ],
      "text/plain": [
       "       bedrooms  bathrooms  latitude  longitude  price\n",
       "42550         1        1.0   40.7730   -73.9558   2275\n",
       "10260         3        1.0   40.6895   -73.9566   2725\n",
       "7428          2        1.0   40.6774   -73.9487   2575"
      ]
     },
     "execution_count": 81,
     "metadata": {},
     "output_type": "execute_result"
    }
   ],
   "source": [
    "df_rent = load_rent()\n",
    "df_rent = df_rent[-50:]  # get a small subsample since SVM is slowwww\n",
    "df_rent.head(3)"
   ]
  },
  {
   "cell_type": "code",
   "execution_count": 82,
   "metadata": {},
   "outputs": [],
   "source": [
    "X = df_rent.drop('price', axis=1)\n",
    "y = df_rent['price']"
   ]
  },
  {
   "cell_type": "code",
   "execution_count": 83,
   "metadata": {},
   "outputs": [
    {
     "data": {
      "text/plain": [
       "RandomForestRegressor(bootstrap=False, criterion='mse', max_depth=None,\n",
       "           max_features=1.0, max_leaf_nodes=None,\n",
       "           min_impurity_decrease=0.0, min_impurity_split=None,\n",
       "           min_samples_leaf=8, min_samples_split=2,\n",
       "           min_weight_fraction_leaf=0.0, n_estimators=1, n_jobs=None,\n",
       "           oob_score=False, random_state=None, verbose=0, warm_start=False)"
      ]
     },
     "execution_count": 83,
     "metadata": {},
     "output_type": "execute_result"
    }
   ],
   "source": [
    "colname = 'latitude'\n",
    "ntrees = 1\n",
    "min_samples_leaf=8\n",
    "bootstrap = False\n",
    "max_features = 1.0\n",
    "rf = RandomForestRegressor(n_estimators=ntrees,\n",
    "                           min_samples_leaf=min_samples_leaf,\n",
    "                           bootstrap = bootstrap,\n",
    "                           max_features = max_features)\n",
    "rf.fit(X.drop(colname, axis=1), y)"
   ]
  },
  {
   "cell_type": "code",
   "execution_count": 84,
   "metadata": {},
   "outputs": [
    {
     "data": {
      "text/plain": [
       "array([40.6774, 40.6895, 40.6955, 40.706 , 40.7074, 40.7078, 40.7113,\n",
       "       40.7156, 40.7184, 40.7197])"
      ]
     },
     "execution_count": 84,
     "metadata": {},
     "output_type": "execute_result"
    }
   ],
   "source": [
    "uniq_x = np.array(sorted(np.unique(X[colname])))\n",
    "uniq_x[0:10]"
   ]
  },
  {
   "cell_type": "code",
   "execution_count": 85,
   "metadata": {},
   "outputs": [
    {
     "name": "stdout",
     "output_type": "stream",
     "text": [
      "Partitioning 'x not latitude': 9 nodes in (first) tree, 1 trees, 5 total leaves\n"
     ]
    },
    {
     "data": {
      "text/plain": [
       "[array([ 7, 14, 16, 30, 36, 37, 38, 40, 47]),\n",
       " array([12, 24, 25, 26, 27, 31, 32, 39]),\n",
       " array([ 0,  4,  5,  8, 10, 15, 17, 23, 29, 34, 43, 46]),\n",
       " array([ 9, 11, 13, 19, 20, 21, 22, 28, 35, 41, 42, 45]),\n",
       " array([ 1,  2,  3,  6, 18, 33, 44, 48, 49])]"
      ]
     },
     "execution_count": 85,
     "metadata": {},
     "output_type": "execute_result"
    }
   ],
   "source": [
    "leaves = leaf_samples(rf, X.drop(colname, axis=1))\n",
    "nnodes = rf.estimators_[0].tree_.node_count\n",
    "print(f\"Partitioning 'x not {colname}': {nnodes} nodes in (first) tree, \"\n",
    "      f\"{len(rf.estimators_)} trees, {len(leaves)} total leaves\")\n",
    "leaves"
   ]
  },
  {
   "cell_type": "code",
   "execution_count": 88,
   "metadata": {},
   "outputs": [
    {
     "name": "stdout",
     "output_type": "stream",
     "text": [
      "[40.7663 40.7078 40.7258 40.7512 40.7521 40.777  40.7556 40.7356 40.7597] -> [1850 3575 2275 3820 4415 4065 4095 3850 2650]\n",
      "\tbin1 [40.7078 40.7258 40.7356] -> [3575 2275 3850] beta -268.25833277742396\n"
     ]
    },
    {
     "ename": "IndexError",
     "evalue": "boolean index did not match indexed array along dimension 0; dimension is 50 but corresponding boolean dimension is 9",
     "output_type": "error",
     "traceback": [
      "\u001b[0;31m---------------------------------------------------------------------------\u001b[0m",
      "\u001b[0;31mIndexError\u001b[0m                                Traceback (most recent call last)",
      "\u001b[0;32m<ipython-input-88-6dd0d291c628>\u001b[0m in \u001b[0;36m<module>\u001b[0;34m\u001b[0m\n\u001b[1;32m     24\u001b[0m         \u001b[0mlm\u001b[0m\u001b[0;34m.\u001b[0m\u001b[0mfit\u001b[0m\u001b[0;34m(\u001b[0m\u001b[0mbin_x\u001b[0m\u001b[0;34m.\u001b[0m\u001b[0mreshape\u001b[0m\u001b[0;34m(\u001b[0m\u001b[0;34m-\u001b[0m\u001b[0;36m1\u001b[0m\u001b[0;34m,\u001b[0m \u001b[0;36m1\u001b[0m\u001b[0;34m)\u001b[0m\u001b[0;34m,\u001b[0m \u001b[0mbin_y\u001b[0m\u001b[0;34m)\u001b[0m\u001b[0;34m\u001b[0m\u001b[0;34m\u001b[0m\u001b[0m\n\u001b[1;32m     25\u001b[0m         \u001b[0mprint\u001b[0m\u001b[0;34m(\u001b[0m\u001b[0;34mf'\\tbin{b}'\u001b[0m\u001b[0;34m,\u001b[0m \u001b[0mbin_x\u001b[0m\u001b[0;34m,\u001b[0m \u001b[0;34m'->'\u001b[0m\u001b[0;34m,\u001b[0m \u001b[0mbin_y\u001b[0m\u001b[0;34m,\u001b[0m \u001b[0;34m'beta'\u001b[0m\u001b[0;34m,\u001b[0m \u001b[0mlm\u001b[0m\u001b[0;34m.\u001b[0m\u001b[0mcoef_\u001b[0m\u001b[0;34m[\u001b[0m\u001b[0;36m0\u001b[0m\u001b[0;34m]\u001b[0m\u001b[0;34m)\u001b[0m\u001b[0;34m\u001b[0m\u001b[0;34m\u001b[0m\u001b[0m\n\u001b[0;32m---> 26\u001b[0;31m         \u001b[0mpoint_betas\u001b[0m\u001b[0;34m[\u001b[0m\u001b[0mbinned_idx\u001b[0m \u001b[0;34m==\u001b[0m \u001b[0mb\u001b[0m\u001b[0;34m]\u001b[0m \u001b[0;34m=\u001b[0m \u001b[0mlm\u001b[0m\u001b[0;34m.\u001b[0m\u001b[0mcoef_\u001b[0m\u001b[0;34m[\u001b[0m\u001b[0;36m0\u001b[0m\u001b[0;34m]\u001b[0m\u001b[0;34m\u001b[0m\u001b[0;34m\u001b[0m\u001b[0m\n\u001b[0m",
      "\u001b[0;31mIndexError\u001b[0m: boolean index did not match indexed array along dimension 0; dimension is 50 but corresponding boolean dimension is 9"
     ]
    }
   ],
   "source": [
    "nbins = 2\n",
    "\n",
    "for samples in leaves:\n",
    "    leaf_all_x = X.iloc[samples]\n",
    "    leaf_x = leaf_all_x[colname].values\n",
    "    leaf_y = y.iloc[samples].values\n",
    "    print(leaf_x, '->', leaf_y)\n",
    "    domain = (np.min(leaf_x), np.max(leaf_x))\n",
    "    bins = np.linspace(*domain, num=nbins+1, endpoint=True)\n",
    "    binned_idx = np.digitize(leaf_x, bins)\n",
    "    point_betas = np.full(shape=(len(X),), fill_value=np.nan)\n",
    "    for b in range(1, len(bins)+1):\n",
    "        bin_x = leaf_x[binned_idx == b]\n",
    "        bin_y = leaf_y[binned_idx == b]\n",
    "        if len(bin_x)<2: # either no or too little data\n",
    "#             print(f'ignoring {bin_x} -> {bin_y}')\n",
    "            continue\n",
    "        r = (np.min(bin_x), np.max(bin_x))\n",
    "        if np.isclose(r[0], r[1]):\n",
    "#             print(f'ignoring {bin_x} -> {bin_y} for same range')\n",
    "            continue\n",
    "        lm = LinearRegression()\n",
    "#         bin_x = bin_x.reshape(-1, 1)\n",
    "        lm.fit(bin_x.reshape(-1, 1), bin_y)\n",
    "        print(f'\\tbin{b}', bin_x, '->', bin_y, 'beta', lm.coef_[0])\n",
    "        point_betas[binned_idx == b] = lm.coef_[0]"
   ]
  },
  {
   "cell_type": "code",
   "execution_count": null,
   "metadata": {},
   "outputs": [],
   "source": []
  },
  {
   "cell_type": "code",
   "execution_count": null,
   "metadata": {},
   "outputs": [],
   "source": []
  }
 ],
 "metadata": {
  "kernelspec": {
   "display_name": "Python 3",
   "language": "python",
   "name": "python3"
  },
  "language_info": {
   "codemirror_mode": {
    "name": "ipython",
    "version": 3
   },
   "file_extension": ".py",
   "mimetype": "text/x-python",
   "name": "python",
   "nbconvert_exporter": "python",
   "pygments_lexer": "ipython3",
   "version": "3.7.1"
  }
 },
 "nbformat": 4,
 "nbformat_minor": 2
}
