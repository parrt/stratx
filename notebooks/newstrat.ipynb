{
 "cells": [
  {
   "cell_type": "code",
   "execution_count": 1,
   "metadata": {},
   "outputs": [],
   "source": [
    "import numpy as np\n",
    "import pandas as pd\n",
    "from typing import Mapping, List, Tuple\n",
    "from collections import defaultdict\n",
    "import matplotlib.pyplot as plt\n",
    "from sklearn.linear_model import LinearRegression, Lasso\n",
    "from sklearn.ensemble import RandomForestClassifier\n",
    "from sklearn.ensemble import RandomForestRegressor\n",
    "from sklearn.datasets import load_boston, load_iris, load_wine, load_digits, \\\n",
    "    load_breast_cancer, load_diabetes, fetch_mldata\n",
    "from  matplotlib.collections import LineCollection\n",
    "import time\n",
    "from pandas.api.types import is_string_dtype, is_object_dtype, is_categorical_dtype, is_bool_dtype\n",
    "from sklearn.ensemble.partial_dependence import partial_dependence, plot_partial_dependence\n",
    "from pdpbox import pdp\n",
    "from rfpimp import *\n",
    "from scipy.integrate import cumtrapz\n",
    "# from stratx.plot import *\n",
    "# from stratx.ice import *\n",
    "\n",
    "%config InlineBackend.figure_formats = ['png']\n",
    "\n",
    "def df_string_to_cat(df:pd.DataFrame) -> dict:\n",
    "    catencoders = {}\n",
    "    for colname in df.columns:\n",
    "        if is_string_dtype(df[colname]) or is_object_dtype(df[colname]):\n",
    "            df[colname] = df[colname].astype('category').cat.as_ordered()\n",
    "            catencoders[colname] = df[colname].cat.categories\n",
    "    return catencoders\n",
    "\n",
    "\n",
    "def df_cat_to_catcode(df):\n",
    "    for col in df.columns:\n",
    "        if is_categorical_dtype(df[col]):\n",
    "            df[col] = df[col].cat.codes + 1"
   ]
  },
  {
   "cell_type": "code",
   "execution_count": 2,
   "metadata": {},
   "outputs": [],
   "source": [
    "def load_rent():\n",
    "    \"\"\"\n",
    "    *Data use rules prevent us from storing this data in this repo*. Download the data\n",
    "    set from Kaggle. (You must be a registered Kaggle user and must be logged in.)\n",
    "    Go to the Kaggle [data page](https://www.kaggle.com/c/two-sigma-connect-rental-listing-inquiries/data)\n",
    "    and save `train.json`\n",
    "    :return:\n",
    "    \"\"\"\n",
    "    df = pd.read_json('data/train.json')\n",
    "\n",
    "    # Create ideal numeric data set w/o outliers etc...\n",
    "    df = df[(df.price > 1_000) & (df.price < 10_000)]\n",
    "    df = df[df.bathrooms <= 4]  # There's almost no data for above with small sample\n",
    "    df = df[(df.longitude != 0) | (df.latitude != 0)]\n",
    "    df = df[(df['latitude'] > 40.55) & (df['latitude'] < 40.94) &\n",
    "            (df['longitude'] > -74.1) & (df['longitude'] < -73.67)]\n",
    "    df = df.sort_values('created')\n",
    "    df_rent = df[['bedrooms', 'bathrooms', 'latitude', 'longitude', 'price']]\n",
    "\n",
    "    return df_rent"
   ]
  },
  {
   "cell_type": "code",
   "execution_count": 3,
   "metadata": {},
   "outputs": [],
   "source": [
    "def leaf_samples(rf, X:np.ndarray):\n",
    "    \"\"\"\n",
    "    Return a list of arrays where each array is the set of X sample indexes\n",
    "    residing in a single leaf of some tree in rf forest.\n",
    "    \"\"\"\n",
    "    ntrees = len(rf.estimators_)\n",
    "    leaf_ids = rf.apply(X) # which leaf does each X_i go to for each tree?\n",
    "    d = pd.DataFrame(leaf_ids, columns=[f\"tree{i}\" for i in range(ntrees)])\n",
    "    d = d.reset_index() # get 0..n-1 as column called index so we can do groupby\n",
    "    \"\"\"\n",
    "    d looks like:\n",
    "        index\ttree0\ttree1\ttree2\ttree3\ttree4\n",
    "    0\t0\t    8\t    3\t    4\t    4\t    3\n",
    "    1\t1\t    8\t    3\t    4\t    4\t    3\n",
    "    \"\"\"\n",
    "    leaf_samples = []\n",
    "    for i in range(ntrees):\n",
    "        \"\"\"\n",
    "        Each groupby gets a list of all X indexes associated with same leaf. 4 leaves would\n",
    "        get 4 arrays of X indexes; e.g.,\n",
    "        array([array([0, 1, 2, 3, 4, 5, 6, 7, 8, 9]),\n",
    "               array([10, 11, 12, 13, 14, 15]), array([16, 17, 18, 19, 20]),\n",
    "               array([21, 22, 23, 24, 25, 26, 27, 28, 29]), ... )\n",
    "        \"\"\"\n",
    "        sample_idxs_in_leaf = d.groupby(f'tree{i}')['index'].apply(lambda x: x.values)\n",
    "        leaf_samples.extend(sample_idxs_in_leaf) # add [...sample idxs...] for each leaf\n",
    "    return leaf_samples"
   ]
  },
  {
   "cell_type": "code",
   "execution_count": 22,
   "metadata": {},
   "outputs": [
    {
     "data": {
      "text/html": [
       "<div>\n",
       "<style scoped>\n",
       "    .dataframe tbody tr th:only-of-type {\n",
       "        vertical-align: middle;\n",
       "    }\n",
       "\n",
       "    .dataframe tbody tr th {\n",
       "        vertical-align: top;\n",
       "    }\n",
       "\n",
       "    .dataframe thead th {\n",
       "        text-align: right;\n",
       "    }\n",
       "</style>\n",
       "<table border=\"1\" class=\"dataframe\">\n",
       "  <thead>\n",
       "    <tr style=\"text-align: right;\">\n",
       "      <th></th>\n",
       "      <th>bedrooms</th>\n",
       "      <th>bathrooms</th>\n",
       "      <th>latitude</th>\n",
       "      <th>longitude</th>\n",
       "      <th>price</th>\n",
       "    </tr>\n",
       "  </thead>\n",
       "  <tbody>\n",
       "    <tr>\n",
       "      <th>38745</th>\n",
       "      <td>0</td>\n",
       "      <td>1.0</td>\n",
       "      <td>69.27</td>\n",
       "      <td>-73.9860</td>\n",
       "      <td>2855</td>\n",
       "    </tr>\n",
       "    <tr>\n",
       "      <th>38613</th>\n",
       "      <td>1</td>\n",
       "      <td>1.0</td>\n",
       "      <td>79.63</td>\n",
       "      <td>-73.9306</td>\n",
       "      <td>1550</td>\n",
       "    </tr>\n",
       "    <tr>\n",
       "      <th>21781</th>\n",
       "      <td>2</td>\n",
       "      <td>1.0</td>\n",
       "      <td>68.93</td>\n",
       "      <td>-73.9918</td>\n",
       "      <td>3500</td>\n",
       "    </tr>\n",
       "  </tbody>\n",
       "</table>\n",
       "</div>"
      ],
      "text/plain": [
       "       bedrooms  bathrooms  latitude  longitude  price\n",
       "38745         0        1.0     69.27   -73.9860   2855\n",
       "38613         1        1.0     79.63   -73.9306   1550\n",
       "21781         2        1.0     68.93   -73.9918   3500"
      ]
     },
     "execution_count": 22,
     "metadata": {},
     "output_type": "execute_result"
    }
   ],
   "source": [
    "df_rent = load_rent()\n",
    "df_rent = df_rent[-10_000:]  # get a small subsample since SVM is slowwww\n",
    "df_rent['latitude'] = (df_rent['latitude']-40)*100 # shift so easier to read\n",
    "df_rent.head(3)"
   ]
  },
  {
   "cell_type": "code",
   "execution_count": 23,
   "metadata": {},
   "outputs": [],
   "source": [
    "X = df_rent.drop('price', axis=1)\n",
    "y = df_rent['price']"
   ]
  },
  {
   "cell_type": "code",
   "execution_count": 35,
   "metadata": {},
   "outputs": [],
   "source": [
    "def collect_point_betas(X, y, colname, leaves, nbins):\n",
    "    point_betas = np.full(shape=(len(X),), fill_value=np.nan)\n",
    "    for samples in leaves: # samples is set of obs indexes that live in a single leaf\n",
    "        leaf_all_x = X.iloc[samples]\n",
    "        leaf_x = leaf_all_x[colname].values\n",
    "        leaf_y = y.iloc[samples].values\n",
    "        # Right edge of last bin is max(leaf_x) but that means we ignore the last value\n",
    "        # every time. Tweak domain right edge a bit so max(leaf_x) falls in last bin.\n",
    "        last_bin_extension = 0.0000001\n",
    "        domain = (np.min(leaf_x), np.max(leaf_x)+last_bin_extension)\n",
    "        bins = np.linspace(*domain, num=nbins+1, endpoint=True)\n",
    "#         print('bins', bins)\n",
    "        binned_idx = np.digitize(leaf_x, bins) # bin number for values in leaf_x\n",
    "#         print(leaf_x, '->', leaf_y)\n",
    "#         print(f\"leaf samples: {samples}, binned_idx: {binned_idx}\")\n",
    "        for b in range(1, len(bins)+1):\n",
    "            bin_x = leaf_x[binned_idx == b]\n",
    "            bin_y = leaf_y[binned_idx == b]\n",
    "            bin_obs_idx = np.digitize(bin_x, bins) # bin number for values in leaf_x\n",
    "            if len(bin_x)<2: # either no or too little data\n",
    "    #             print(f'ignoring {bin_x} -> {bin_y}')\n",
    "                continue\n",
    "            r = (np.min(bin_x), np.max(bin_x))\n",
    "            if np.isclose(r[0], r[1]):\n",
    "    #             print(f'ignoring {bin_x} -> {bin_y} for same range')\n",
    "                continue\n",
    "            lm = LinearRegression()\n",
    "    #         bin_x = bin_x.reshape(-1, 1)\n",
    "            leaf_obs_idx_for_bin = np.nonzero((leaf_x>=bins[b-1]) &(leaf_x<bins[b]))\n",
    "            leaf_x_in_bin = leaf_x[leaf_obs_idx_for_bin]\n",
    "            obs_idx = samples[leaf_obs_idx_for_bin]\n",
    "#             print(\"\\tx in range\", leaf_x_in_bin, leaf_obs_idx_for_bin, \"obs idx\", obs_idx)\n",
    "            lm.fit(bin_x.reshape(-1, 1), bin_y)\n",
    "#             print(f'\\tbin{b}', bin_x, '->', bin_y, 'beta', lm.coef_[0])\n",
    "            point_betas[obs_idx] = lm.coef_[0]\n",
    "    return point_betas\n",
    "\n",
    "def foo(X, y, colname, ntrees = 1, min_samples_leaf=10, bootstrap=False, max_features=1.0, nbins=2):\n",
    "    rf = RandomForestRegressor(n_estimators=ntrees,\n",
    "                               min_samples_leaf=min_samples_leaf,\n",
    "                               bootstrap = bootstrap,\n",
    "                               max_features = max_features)\n",
    "    rf.fit(X.drop(colname, axis=1), y)\n",
    "    print(rf)\n",
    "    leaves = leaf_samples(rf, X.drop(colname, axis=1))\n",
    "    nnodes = rf.estimators_[0].tree_.node_count\n",
    "    print(f\"Partitioning 'x not {colname}': {nnodes} nodes in (first) tree, \"\n",
    "          f\"{len(rf.estimators_)} trees, {len(leaves)} total leaves\")\n",
    "\n",
    "    point_betas = collect_point_betas(X, y, colname, leaves, nbins)\n",
    "    Xbetas = np.vstack([X[colname].values, point_betas]).T # get x_c, beta matrix\n",
    "    Xbetas = Xbetas[Xbetas[:,0].argsort()] # sort by x coordinate\n",
    "    return Xbetas"
   ]
  },
  {
   "cell_type": "code",
   "execution_count": 36,
   "metadata": {},
   "outputs": [
    {
     "name": "stdout",
     "output_type": "stream",
     "text": [
      "RandomForestRegressor(bootstrap=False, criterion='mse', max_depth=None,\n",
      "           max_features=1.0, max_leaf_nodes=None,\n",
      "           min_impurity_decrease=0.0, min_impurity_split=None,\n",
      "           min_samples_leaf=10, min_samples_split=2,\n",
      "           min_weight_fraction_leaf=0.0, n_estimators=1, n_jobs=None,\n",
      "           oob_score=False, random_state=None, verbose=0, warm_start=False)\n",
      "Partitioning 'x not bedrooms': 1397 nodes in (first) tree, 1 trees, 699 total leaves\n"
     ]
    },
    {
     "data": {
      "text/plain": [
       "array([[   0.        ,           nan],\n",
       "       [   0.        ,           nan],\n",
       "       [   0.        ,  775.61818182],\n",
       "       ...,\n",
       "       [   6.        ,  900.33333333],\n",
       "       [   8.        ,           nan],\n",
       "       [   8.        , -550.        ]])"
      ]
     },
     "execution_count": 36,
     "metadata": {},
     "output_type": "execute_result"
    }
   ],
   "source": [
    "Xbetas = foo(X, y, 'bedrooms', nbins=2)\n",
    "Xbetas#[0:30]"
   ]
  },
  {
   "cell_type": "code",
   "execution_count": 26,
   "metadata": {},
   "outputs": [
    {
     "data": {
      "text/plain": [
       "array([0., 1., 2., 3., 4., 5., 6., 8.])"
      ]
     },
     "execution_count": 26,
     "metadata": {},
     "output_type": "execute_result"
    }
   ],
   "source": [
    "np.unique(Xbetas[:,0])"
   ]
  },
  {
   "cell_type": "code",
   "execution_count": 27,
   "metadata": {},
   "outputs": [
    {
     "name": "stdout",
     "output_type": "stream",
     "text": [
      "0.0 249.52163288615623\n",
      "1.0 243.6280085875399\n",
      "2.0 225.55010982389925\n",
      "3.0 193.245222191391\n",
      "4.0 218.0977196353945\n",
      "5.0 488.5478603603604\n",
      "6.0 144.23333333333335\n",
      "8.0 -177.99999999999991\n"
     ]
    }
   ],
   "source": [
    "for x in np.unique(Xbetas[:,0]):\n",
    "    print(x, np.nanmean(Xbetas[Xbetas[:,0]==x]))"
   ]
  },
  {
   "cell_type": "code",
   "execution_count": 78,
   "metadata": {},
   "outputs": [
    {
     "name": "stdout",
     "output_type": "stream",
     "text": [
      "bins_smoothing [0.         0.88888889 1.77777778 2.66666667 3.55555556 4.44444444\n",
      " 5.33333333 6.22222222 7.11111111 8.        ] , deltas [0.88888889 0.88888889 0.88888889 0.88888889 0.88888889 0.88888889\n",
      " 0.88888889 0.88888889 0.88888889]\n",
      "avgslopes [ 502.35204079  481.58188301  522.19129177  416.05777219  558.45677978\n",
      "  939.93572985  414.91358025           nan -488.88888889]\n",
      "curve cumsum    [   0.          502.35204079  983.9339238  1506.12521557 1922.18298776\n",
      " 2480.63976754 3420.57549739 3835.48907763 3835.48907763 3346.60018875]\n"
     ]
    }
   ],
   "source": [
    "nbins_smoothing = 9\n",
    "x = Xbetas[:,0]\n",
    "#slopes = Xbetas[:,1]\n",
    "domain = (np.min(x), np.max(x)) # ignores any max(x) points as no slope info after that\n",
    "bins_smoothing = np.linspace(*domain, num=nbins_smoothing+1, endpoint=True)\n",
    "# or use all unique values as bin edges\n",
    "#bins_smoothing = np.array(sorted(np.unique(x)))\n",
    "binned_idx = np.digitize(x, bins_smoothing) # bin number for values in leaf_x\n",
    "\n",
    "noinfo = np.isnan(Xbetas[:,1])\n",
    "Xbetas = Xbetas[~noinfo]\n",
    "\n",
    "from scipy.stats import binned_statistic\n",
    "avg_slopes_per_bin, _, _ = binned_statistic(x=Xbetas[:,0], values=Xbetas[:,1], bins=bins_smoothing, statistic='mean')\n",
    "# avg_slopes_per_bin might have nan for empty bins\n",
    "bin_deltas = np.diff(bins_smoothing)\n",
    "print('bins_smoothing', bins_smoothing, ', deltas', bin_deltas)\n",
    "avg_slopes_per_bin *= bin_deltas\n",
    "print('avgslopes', avg_slopes_per_bin)\n",
    "curve = np.nancumsum(avg_slopes_per_bin)\n",
    "curve = np.concatenate([np.array([0]), curve])  # we start at 0 for min(x)\n",
    "print('curve cumsum   ', curve)"
   ]
  },
  {
   "cell_type": "code",
   "execution_count": 79,
   "metadata": {},
   "outputs": [
    {
     "name": "stdout",
     "output_type": "stream",
     "text": [
      "  0.0,  0.0,  0.0\n",
      "  0.9,502.4,502.4\n",
      "  1.8,983.9,481.6\n",
      "  2.7,1506.1,522.2\n",
      "  3.6,1922.2,416.1\n",
      "  4.4,2480.6,558.5\n",
      "  5.3,3420.6,939.9\n",
      "  6.2,3835.5,414.9\n",
      "  7.1,3835.5,  nan SKIP\n",
      "  8.0,3346.6,-488.9\n"
     ]
    },
    {
     "data": {
      "text/plain": [
       "[(0.0, 0.0),\n",
       " (0.8888888888888888, 502.35204079492013),\n",
       " (1.7777777777777777, 983.9339238004862),\n",
       " (2.6666666666666665, 1506.1252155746502),\n",
       " (3.5555555555555554, 1922.1829877600944),\n",
       " (4.444444444444445, 2480.639767540252),\n",
       " (5.333333333333333, 3420.575497387746),\n",
       " (6.222222222222221, 3835.489077634659),\n",
       " (8.0, 3346.6001887457705)]"
      ]
     },
     "execution_count": 79,
     "metadata": {},
     "output_type": "execute_result"
    },
    {
     "data": {
      "image/png": "[encoded data removed]",
      "text/plain": [
       "<Figure size 432x288 with 1 Axes>"
      ]
     },
     "metadata": {
      "needs_background": "light"
     },
     "output_type": "display_data"
    }
   ],
   "source": [
    "# manual cumsum (not needed)\n",
    "plot_x = []\n",
    "plot_y = []\n",
    "cumslope = 0.0\n",
    "avg_slopes_per_bin = np.concatenate([np.array([0]), avg_slopes_per_bin])  # we start at 0 for min(x)\n",
    "for x,slope in zip(bins_smoothing,avg_slopes_per_bin):\n",
    "    if np.isnan(slope):\n",
    "        print(f\"{x:5.1f},{cumslope:5.1f},{slope:5.1f} SKIP\")\n",
    "        continue\n",
    "    cumslope += slope\n",
    "    plot_x.append(x)\n",
    "    plot_y.append(cumslope)\n",
    "    print(f\"{x:5.1f},{cumslope:5.1f},{slope:5.1f}\")\n",
    "    plt.scatter([x],[cumslope], c='black')\n",
    "plt.xlim(0,8)\n",
    "list(zip(plot_x,plot_y))"
   ]
  },
  {
   "cell_type": "code",
   "execution_count": 76,
   "metadata": {},
   "outputs": [
    {
     "name": "stdout",
     "output_type": "stream",
     "text": [
      "has_slope_info (array([0, 1, 2, 3, 4, 5, 6, 8]),) no slope (array([], dtype=int64),)\n",
      "bins      [0.         0.88888889 1.77777778 2.66666667 3.55555556 4.44444444\n",
      " 5.33333333 7.11111111]\n",
      "curve [   0.          502.35204079  983.9339238  1506.12521557 1922.18298776\n",
      " 2480.63976754 3420.57549739 3835.48907763]\n"
     ]
    },
    {
     "data": {
      "text/plain": [
       "[<matplotlib.lines.Line2D at 0x1a48018b00>]"
      ]
     },
     "execution_count": 76,
     "metadata": {},
     "output_type": "execute_result"
    },
    {
     "data": {
      "image/png": "[encoded data removed]",
      "text/plain": [
       "<Figure size 432x288 with 1 Axes>"
      ]
     },
     "metadata": {
      "needs_background": "light"
     },
     "output_type": "display_data"
    }
   ],
   "source": [
    "has_slope_info = np.nonzero(~np.isnan(avg_slopes_per_bin))\n",
    "print('has_slope_info', has_slope_info, 'no slope', np.nonzero(np.isnan(curve)))\n",
    "print('bins     ', bins_smoothing[has_slope_info])\n",
    "print('curve', curve[has_slope_info])\n",
    "\n",
    "bins_smoothing = bins_smoothing[has_slope_info]\n",
    "curve = curve[has_slope_info]\n",
    "\n",
    "plt.scatter(bins_smoothing, curve, s=15)\n",
    "plt.plot(bins_smoothing, curve, lw=.5)\n",
    "#plt.ylim(0,4000)"
   ]
  },
  {
   "cell_type": "code",
   "execution_count": null,
   "metadata": {},
   "outputs": [],
   "source": []
  },
  {
   "cell_type": "code",
   "execution_count": null,
   "metadata": {},
   "outputs": [],
   "source": []
  }
 ],
 "metadata": {
  "kernelspec": {
   "display_name": "Python 3",
   "language": "python",
   "name": "python3"
  },
  "language_info": {
   "codemirror_mode": {
    "name": "ipython",
    "version": 3
   },
   "file_extension": ".py",
   "mimetype": "text/x-python",
   "name": "python",
   "nbconvert_exporter": "python",
   "pygments_lexer": "ipython3",
   "version": "3.7.1"
  }
 },
 "nbformat": 4,
 "nbformat_minor": 2
}
