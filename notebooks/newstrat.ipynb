{
 "cells": [
  {
   "cell_type": "code",
   "execution_count": 1,
   "metadata": {},
   "outputs": [],
   "source": [
    "import numpy as np\n",
    "import pandas as pd\n",
    "from typing import Mapping, List, Tuple\n",
    "from collections import defaultdict\n",
    "import matplotlib.pyplot as plt\n",
    "from sklearn.linear_model import LinearRegression, Lasso\n",
    "from sklearn.ensemble import RandomForestClassifier\n",
    "from sklearn.ensemble import RandomForestRegressor\n",
    "from sklearn.datasets import load_boston, load_iris, load_wine, load_digits, \\\n",
    "    load_breast_cancer, load_diabetes, fetch_mldata\n",
    "from  matplotlib.collections import LineCollection\n",
    "import time\n",
    "from pandas.api.types import is_string_dtype, is_object_dtype, is_categorical_dtype, is_bool_dtype\n",
    "from sklearn.ensemble.partial_dependence import partial_dependence, plot_partial_dependence\n",
    "from pdpbox import pdp\n",
    "from rfpimp import *\n",
    "from scipy.integrate import cumtrapz\n",
    "# from stratx.plot import *\n",
    "# from stratx.ice import *\n",
    "\n",
    "%config InlineBackend.figure_formats = ['png']\n",
    "\n",
    "def df_string_to_cat(df:pd.DataFrame) -> dict:\n",
    "    catencoders = {}\n",
    "    for colname in df.columns:\n",
    "        if is_string_dtype(df[colname]) or is_object_dtype(df[colname]):\n",
    "            df[colname] = df[colname].astype('category').cat.as_ordered()\n",
    "            catencoders[colname] = df[colname].cat.categories\n",
    "    return catencoders\n",
    "\n",
    "\n",
    "def df_cat_to_catcode(df):\n",
    "    for col in df.columns:\n",
    "        if is_categorical_dtype(df[col]):\n",
    "            df[col] = df[col].cat.codes + 1"
   ]
  },
  {
   "cell_type": "code",
   "execution_count": 2,
   "metadata": {},
   "outputs": [],
   "source": [
    "def load_rent():\n",
    "    \"\"\"\n",
    "    *Data use rules prevent us from storing this data in this repo*. Download the data\n",
    "    set from Kaggle. (You must be a registered Kaggle user and must be logged in.)\n",
    "    Go to the Kaggle [data page](https://www.kaggle.com/c/two-sigma-connect-rental-listing-inquiries/data)\n",
    "    and save `train.json`\n",
    "    :return:\n",
    "    \"\"\"\n",
    "    df = pd.read_json('data/train.json')\n",
    "\n",
    "    # Create ideal numeric data set w/o outliers etc...\n",
    "    df = df[(df.price > 1_000) & (df.price < 10_000)]\n",
    "    df = df[df.bathrooms <= 4]  # There's almost no data for above with small sample\n",
    "    df = df[(df.longitude != 0) | (df.latitude != 0)]\n",
    "    df = df[(df['latitude'] > 40.55) & (df['latitude'] < 40.94) &\n",
    "            (df['longitude'] > -74.1) & (df['longitude'] < -73.67)]\n",
    "    df = df.sort_values('created')\n",
    "    df_rent = df[['bedrooms', 'bathrooms', 'latitude', 'longitude', 'price']]\n",
    "\n",
    "    return df_rent"
   ]
  },
  {
   "cell_type": "code",
   "execution_count": 3,
   "metadata": {},
   "outputs": [],
   "source": [
    "def leaf_samples(rf, X:np.ndarray):\n",
    "    \"\"\"\n",
    "    Return a list of arrays where each array is the set of X sample indexes\n",
    "    residing in a single leaf of some tree in rf forest.\n",
    "    \"\"\"\n",
    "    ntrees = len(rf.estimators_)\n",
    "    leaf_ids = rf.apply(X) # which leaf does each X_i go to for each tree?\n",
    "    d = pd.DataFrame(leaf_ids, columns=[f\"tree{i}\" for i in range(ntrees)])\n",
    "    d = d.reset_index() # get 0..n-1 as column called index so we can do groupby\n",
    "    \"\"\"\n",
    "    d looks like:\n",
    "        index\ttree0\ttree1\ttree2\ttree3\ttree4\n",
    "    0\t0\t    8\t    3\t    4\t    4\t    3\n",
    "    1\t1\t    8\t    3\t    4\t    4\t    3\n",
    "    \"\"\"\n",
    "    leaf_samples = []\n",
    "    for i in range(ntrees):\n",
    "        \"\"\"\n",
    "        Each groupby gets a list of all X indexes associated with same leaf. 4 leaves would\n",
    "        get 4 arrays of X indexes; e.g.,\n",
    "        array([array([0, 1, 2, 3, 4, 5, 6, 7, 8, 9]),\n",
    "               array([10, 11, 12, 13, 14, 15]), array([16, 17, 18, 19, 20]),\n",
    "               array([21, 22, 23, 24, 25, 26, 27, 28, 29]), ... )\n",
    "        \"\"\"\n",
    "        sample_idxs_in_leaf = d.groupby(f'tree{i}')['index'].apply(lambda x: x.values)\n",
    "        leaf_samples.extend(sample_idxs_in_leaf) # add [...sample idxs...] for each leaf\n",
    "    return leaf_samples"
   ]
  },
  {
   "cell_type": "code",
   "execution_count": 96,
   "metadata": {},
   "outputs": [],
   "source": [
    "df_rent = load_rent()\n",
    "df_rent = df_rent[-10_000:]  # get a small subsample since SVM is slowwww\n",
    "df_rent['latitude'] = (df_rent['latitude']-40)*100 # shift so easier to read\n",
    "df_rent.head(3)\n",
    "\n",
    "X = df_rent.drop('price', axis=1)\n",
    "y = df_rent['price']"
   ]
  },
  {
   "cell_type": "markdown",
   "metadata": {},
   "source": [
    "# New continuous version"
   ]
  },
  {
   "cell_type": "code",
   "execution_count": 35,
   "metadata": {},
   "outputs": [],
   "source": [
    "def collect_point_betas(X, y, colname, leaves, nbins):\n",
    "    point_betas = np.full(shape=(len(X),), fill_value=np.nan)\n",
    "    for samples in leaves: # samples is set of obs indexes that live in a single leaf\n",
    "        leaf_all_x = X.iloc[samples]\n",
    "        leaf_x = leaf_all_x[colname].values\n",
    "        leaf_y = y.iloc[samples].values\n",
    "        # Right edge of last bin is max(leaf_x) but that means we ignore the last value\n",
    "        # every time. Tweak domain right edge a bit so max(leaf_x) falls in last bin.\n",
    "        last_bin_extension = 0.0000001\n",
    "        domain = (np.min(leaf_x), np.max(leaf_x)+last_bin_extension)\n",
    "        bins = np.linspace(*domain, num=nbins+1, endpoint=True)\n",
    "#         print('bins', bins)\n",
    "        binned_idx = np.digitize(leaf_x, bins) # bin number for values in leaf_x\n",
    "#         print(leaf_x, '->', leaf_y)\n",
    "#         print(f\"leaf samples: {samples}, binned_idx: {binned_idx}\")\n",
    "        for b in range(1, len(bins)+1):\n",
    "            bin_x = leaf_x[binned_idx == b]\n",
    "            bin_y = leaf_y[binned_idx == b]\n",
    "            bin_obs_idx = np.digitize(bin_x, bins) # bin number for values in leaf_x\n",
    "            if len(bin_x)<2: # either no or too little data\n",
    "    #             print(f'ignoring {bin_x} -> {bin_y}')\n",
    "                continue\n",
    "            r = (np.min(bin_x), np.max(bin_x))\n",
    "            if np.isclose(r[0], r[1]):\n",
    "    #             print(f'ignoring {bin_x} -> {bin_y} for same range')\n",
    "                continue\n",
    "            lm = LinearRegression()\n",
    "    #         bin_x = bin_x.reshape(-1, 1)\n",
    "            leaf_obs_idx_for_bin = np.nonzero((leaf_x>=bins[b-1]) &(leaf_x<bins[b]))\n",
    "            leaf_x_in_bin = leaf_x[leaf_obs_idx_for_bin]\n",
    "            obs_idx = samples[leaf_obs_idx_for_bin]\n",
    "#             print(\"\\tx in range\", leaf_x_in_bin, leaf_obs_idx_for_bin, \"obs idx\", obs_idx)\n",
    "            lm.fit(bin_x.reshape(-1, 1), bin_y)\n",
    "#             print(f'\\tbin{b}', bin_x, '->', bin_y, 'beta', lm.coef_[0])\n",
    "            point_betas[obs_idx] = lm.coef_[0]\n",
    "    return point_betas\n",
    "\n",
    "def foo(X, y, colname, ntrees = 1, min_samples_leaf=10, bootstrap=False, max_features=1.0, nbins=2):\n",
    "    rf = RandomForestRegressor(n_estimators=ntrees,\n",
    "                               min_samples_leaf=min_samples_leaf,\n",
    "                               bootstrap = bootstrap,\n",
    "                               max_features = max_features)\n",
    "    rf.fit(X.drop(colname, axis=1), y)\n",
    "    print(rf)\n",
    "    leaves = leaf_samples(rf, X.drop(colname, axis=1))\n",
    "    nnodes = rf.estimators_[0].tree_.node_count\n",
    "    print(f\"Partitioning 'x not {colname}': {nnodes} nodes in (first) tree, \"\n",
    "          f\"{len(rf.estimators_)} trees, {len(leaves)} total leaves\")\n",
    "\n",
    "    point_betas = collect_point_betas(X, y, colname, leaves, nbins)\n",
    "    Xbetas = np.vstack([X[colname].values, point_betas]).T # get x_c, beta matrix\n",
    "    Xbetas = Xbetas[Xbetas[:,0].argsort()] # sort by x coordinate\n",
    "    return Xbetas"
   ]
  },
  {
   "cell_type": "code",
   "execution_count": 83,
   "metadata": {},
   "outputs": [
    {
     "name": "stdout",
     "output_type": "stream",
     "text": [
      "RandomForestRegressor(bootstrap=False, criterion='mse', max_depth=None,\n",
      "           max_features=1.0, max_leaf_nodes=None,\n",
      "           min_impurity_decrease=0.0, min_impurity_split=None,\n",
      "           min_samples_leaf=10, min_samples_split=2,\n",
      "           min_weight_fraction_leaf=0.0, n_estimators=1, n_jobs=None,\n",
      "           oob_score=False, random_state=None, verbose=0, warm_start=False)\n",
      "Partitioning 'x not bedrooms': 1397 nodes in (first) tree, 1 trees, 699 total leaves\n"
     ]
    },
    {
     "data": {
      "text/plain": [
       "array([[ 0., nan],\n",
       "       [ 0., nan],\n",
       "       [ 0., nan],\n",
       "       ...,\n",
       "       [ 6., nan],\n",
       "       [ 8., nan],\n",
       "       [ 8., nan]])"
      ]
     },
     "execution_count": 83,
     "metadata": {},
     "output_type": "execute_result"
    }
   ],
   "source": [
    "Xbetas = foo(X, y, 'bedrooms', nbins=3)\n",
    "Xbetas#[0:30]"
   ]
  },
  {
   "cell_type": "code",
   "execution_count": 84,
   "metadata": {},
   "outputs": [
    {
     "data": {
      "text/plain": [
       "array([0., 1., 2., 3., 4., 5., 6., 8.])"
      ]
     },
     "execution_count": 84,
     "metadata": {},
     "output_type": "execute_result"
    }
   ],
   "source": [
    "np.unique(Xbetas[:,0])"
   ]
  },
  {
   "cell_type": "code",
   "execution_count": 85,
   "metadata": {},
   "outputs": [
    {
     "name": "stdout",
     "output_type": "stream",
     "text": [
      "0.0 152.344832005553\n",
      "1.0 155.87508868346092\n",
      "2.0 71.9649688917843\n",
      "3.0 44.208150974109884\n",
      "4.0 99.87234524559666\n",
      "5.0 206.21394230769232\n",
      "6.0 136.5\n",
      "8.0 8.0\n"
     ]
    }
   ],
   "source": [
    "for x in np.unique(Xbetas[:,0]):\n",
    "    print(x, np.nanmean(Xbetas[Xbetas[:,0]==x]))"
   ]
  },
  {
   "cell_type": "code",
   "execution_count": 86,
   "metadata": {},
   "outputs": [
    {
     "name": "stdout",
     "output_type": "stream",
     "text": [
      "bins_smoothing [0. 1. 2. 3. 4. 5. 6. 8.] , deltas [1. 1. 1. 1. 1. 1. 2.]\n",
      "avgslopes [ 556.572041    554.19561065  897.66265732  460.90036292  577.92075168\n",
      "  876.92708333 2100.        ]\n",
      "curve cumsum    [   0.          556.572041   1110.76765165 2008.43030897 2469.33067189\n",
      " 3047.25142357 3924.1785069  6024.1785069 ]\n"
     ]
    }
   ],
   "source": [
    "nbins_smoothing = 9\n",
    "x = Xbetas[:,0]\n",
    "#slopes = Xbetas[:,1]\n",
    "domain = (np.min(x), np.max(x)) # ignores any max(x) points as no slope info after that\n",
    "bins_smoothing = np.linspace(*domain, num=nbins_smoothing+1, endpoint=True)\n",
    "# or use all unique values as bin edges\n",
    "bins_smoothing = np.array(sorted(np.unique(x)))\n",
    "binned_idx = np.digitize(x, bins_smoothing) # bin number for values in leaf_x\n",
    "\n",
    "noinfo = np.isnan(Xbetas[:,1])\n",
    "Xbetas = Xbetas[~noinfo]\n",
    "\n",
    "from scipy.stats import binned_statistic\n",
    "avg_slopes_per_bin, _, _ = binned_statistic(x=Xbetas[:,0], values=Xbetas[:,1], bins=bins_smoothing, statistic='mean')\n",
    "# avg_slopes_per_bin might have nan for empty bins\n",
    "bin_deltas = np.diff(bins_smoothing)\n",
    "print('bins_smoothing', bins_smoothing, ', deltas', bin_deltas)\n",
    "avg_slopes_per_bin *= bin_deltas\n",
    "print('avgslopes', avg_slopes_per_bin)\n",
    "curve = np.nancumsum(avg_slopes_per_bin)\n",
    "curve = np.concatenate([np.array([0]), curve])  # we start at 0 for min(x)\n",
    "print('curve cumsum   ', curve)"
   ]
  },
  {
   "cell_type": "code",
   "execution_count": 87,
   "metadata": {},
   "outputs": [
    {
     "name": "stdout",
     "output_type": "stream",
     "text": [
      "  0.0,  0.0,  0.0\n",
      "  1.0,556.6,556.6\n",
      "  2.0,1110.8,554.2\n",
      "  3.0,2008.4,897.7\n",
      "  4.0,2469.3,460.9\n",
      "  5.0,3047.3,577.9\n",
      "  6.0,3924.2,876.9\n",
      "  8.0,6024.2,2100.0\n"
     ]
    },
    {
     "data": {
      "text/plain": [
       "[(0.0, 0.0),\n",
       " (1.0, 556.5720409996544),\n",
       " (2.0, 1110.7676516505858),\n",
       " (3.0, 2008.4303089716036),\n",
       " (4.0, 2469.3306718937056),\n",
       " (5.0, 3047.2514235694007),\n",
       " (6.0, 3924.178506902734),\n",
       " (8.0, 6024.178506902734)]"
      ]
     },
     "execution_count": 87,
     "metadata": {},
     "output_type": "execute_result"
    },
    {
     "data": {
      "image/png": "[encoded data removed]",
      "text/plain": [
       "<Figure size 432x288 with 1 Axes>"
      ]
     },
     "metadata": {
      "needs_background": "light"
     },
     "output_type": "display_data"
    }
   ],
   "source": [
    "# manual cumsum (not needed)\n",
    "plot_x = []\n",
    "plot_y = []\n",
    "cumslope = 0.0\n",
    "avg_slopes_per_bin = np.concatenate([np.array([0]), avg_slopes_per_bin])  # we start at 0 for min(x)\n",
    "for x,slope in zip(bins_smoothing,avg_slopes_per_bin):\n",
    "    if np.isnan(slope):\n",
    "        print(f\"{x:5.1f},{cumslope:5.1f},{slope:5.1f} SKIP\")\n",
    "        continue\n",
    "    cumslope += slope\n",
    "    plot_x.append(x)\n",
    "    plot_y.append(cumslope)\n",
    "    print(f\"{x:5.1f},{cumslope:5.1f},{slope:5.1f}\")\n",
    "    plt.scatter([x],[cumslope], c='black')\n",
    "plt.xlim(0,8)\n",
    "list(zip(plot_x,plot_y))"
   ]
  },
  {
   "cell_type": "code",
   "execution_count": 76,
   "metadata": {},
   "outputs": [
    {
     "name": "stdout",
     "output_type": "stream",
     "text": [
      "has_slope_info (array([0, 1, 2, 3, 4, 5, 6, 8]),) no slope (array([], dtype=int64),)\n",
      "bins      [0.         0.88888889 1.77777778 2.66666667 3.55555556 4.44444444\n",
      " 5.33333333 7.11111111]\n",
      "curve [   0.          502.35204079  983.9339238  1506.12521557 1922.18298776\n",
      " 2480.63976754 3420.57549739 3835.48907763]\n"
     ]
    },
    {
     "data": {
      "text/plain": [
       "[<matplotlib.lines.Line2D at 0x1a48018b00>]"
      ]
     },
     "execution_count": 76,
     "metadata": {},
     "output_type": "execute_result"
    },
    {
     "data": {
      "image/png": "[encoded data removed]",
      "text/plain": [
       "<Figure size 432x288 with 1 Axes>"
      ]
     },
     "metadata": {
      "needs_background": "light"
     },
     "output_type": "display_data"
    }
   ],
   "source": [
    "has_slope_info = np.nonzero(~np.isnan(avg_slopes_per_bin))\n",
    "print('has_slope_info', has_slope_info, 'no slope', np.nonzero(np.isnan(curve)))\n",
    "print('bins     ', bins_smoothing[has_slope_info])\n",
    "print('curve', curve[has_slope_info])\n",
    "\n",
    "bins_smoothing = bins_smoothing[has_slope_info]\n",
    "curve = curve[has_slope_info]\n",
    "\n",
    "plt.scatter(bins_smoothing, curve, s=15)\n",
    "plt.plot(bins_smoothing, curve, lw=.5)\n",
    "#plt.ylim(0,4000)"
   ]
  },
  {
   "cell_type": "markdown",
   "metadata": {},
   "source": [
    "# New binned continuous version"
   ]
  },
  {
   "cell_type": "code",
   "execution_count": 92,
   "metadata": {},
   "outputs": [],
   "source": [
    "def collect_bin_betas(X, y, colname, leaves, nbins):\n",
    "    point_betas = np.full(shape=(len(X),), fill_value=np.nan)\n",
    "    for samples in leaves: # samples is set of obs indexes that live in a single leaf\n",
    "        leaf_all_x = X.iloc[samples]\n",
    "        leaf_x = leaf_all_x[colname].values\n",
    "        leaf_y = y.iloc[samples].values\n",
    "        # Right edge of last bin is max(leaf_x) but that means we ignore the last value\n",
    "        # every time. Tweak domain right edge a bit so max(leaf_x) falls in last bin.\n",
    "        last_bin_extension = 0.0000001\n",
    "        domain = (np.min(leaf_x), np.max(leaf_x)+last_bin_extension)\n",
    "        bins = np.linspace(*domain, num=nbins+1, endpoint=True)\n",
    "#         print('bins', bins)\n",
    "        binned_idx = np.digitize(leaf_x, bins) # bin number for values in leaf_x\n",
    "#         print(leaf_x, '->', leaf_y)\n",
    "#         print(f\"leaf samples: {samples}, binned_idx: {binned_idx}\")\n",
    "        for b in range(1, len(bins)+1):\n",
    "            bin_x = leaf_x[binned_idx == b]\n",
    "            bin_y = leaf_y[binned_idx == b]\n",
    "            bin_obs_idx = np.digitize(bin_x, bins) # bin number for values in leaf_x\n",
    "            if len(bin_x)<2: # either no or too little data\n",
    "    #             print(f'ignoring {bin_x} -> {bin_y}')\n",
    "                continue\n",
    "            r = (np.min(bin_x), np.max(bin_x))\n",
    "            if np.isclose(r[0], r[1]):\n",
    "    #             print(f'ignoring {bin_x} -> {bin_y} for same range')\n",
    "                continue\n",
    "            lm = LinearRegression()\n",
    "    #         bin_x = bin_x.reshape(-1, 1)\n",
    "            leaf_obs_idx_for_bin = np.nonzero((leaf_x>=bins[b-1]) &(leaf_x<bins[b]))\n",
    "            leaf_x_in_bin = leaf_x[leaf_obs_idx_for_bin]\n",
    "            obs_idx = samples[leaf_obs_idx_for_bin]\n",
    "#             print(\"\\tx in range\", leaf_x_in_bin, leaf_obs_idx_for_bin, \"obs idx\", obs_idx)\n",
    "            lm.fit(bin_x.reshape(-1, 1), bin_y)\n",
    "#             print(f'\\tbin{b}', bin_x, '->', bin_y, 'beta', lm.coef_[0])\n",
    "            point_betas[obs_idx] = lm.coef_[0]\n",
    "    return point_betas"
   ]
  },
  {
   "cell_type": "code",
   "execution_count": 93,
   "metadata": {},
   "outputs": [],
   "source": [
    "#def nouveau(X, y, colname, ntrees = 1, min_samples_leaf=10, bootstrap=False, max_features=1.0, nbins=2):\n",
    "rf = RandomForestRegressor(n_estimators=ntrees,\n",
    "                           min_samples_leaf=min_samples_leaf,\n",
    "                           bootstrap = bootstrap,\n",
    "                           max_features = max_features)\n",
    "rf.fit(X.drop(colname, axis=1), y)\n",
    "print(rf)\n",
    "leaves = leaf_samples(rf, X.drop(colname, axis=1))\n",
    "nnodes = rf.estimators_[0].tree_.node_count\n",
    "print(f\"Partitioning 'x not {colname}': {nnodes} nodes in (first) tree, \"\n",
    "      f\"{len(rf.estimators_)} trees, {len(leaves)} total leaves\")\n",
    "\n",
    "bin_betas = np.full(shape=(len(X),), fill_value=np.nan)\n",
    "for samples in leaves: # samples is set of obs indexes that live in a single leaf\n",
    "    leaf_all_x = X.iloc[samples]\n",
    "    leaf_x = leaf_all_x[colname].values\n",
    "    leaf_y = y.iloc[samples].values\n",
    "    # Right edge of last bin is max(leaf_x) but that means we ignore the last value\n",
    "    # every time. Tweak domain right edge a bit so max(leaf_x) falls in last bin.\n",
    "    last_bin_extension = 0.0000001\n",
    "    domain = (np.min(leaf_x), np.max(leaf_x)+last_bin_extension)\n",
    "    bins = np.linspace(*domain, num=nbins+1, endpoint=True)\n",
    "#         print('bins', bins)\n",
    "    binned_idx = np.digitize(leaf_x, bins) # bin number for values in leaf_x\n",
    "#         print(leaf_x, '->', leaf_y)\n",
    "#         print(f\"leaf samples: {samples}, binned_idx: {binned_idx}\")\n",
    "    for b in range(1, len(bins)+1):\n",
    "        bin_x = leaf_x[binned_idx == b]\n",
    "        bin_y = leaf_y[binned_idx == b]\n",
    "        bin_obs_idx = np.digitize(bin_x, bins) # bin number for values in leaf_x"
   ]
  },
  {
   "cell_type": "code",
   "execution_count": 94,
   "metadata": {},
   "outputs": [
    {
     "name": "stdout",
     "output_type": "stream",
     "text": [
      "RandomForestRegressor(bootstrap=False, criterion='mse', max_depth=None,\n",
      "           max_features=1.0, max_leaf_nodes=None,\n",
      "           min_impurity_decrease=0.0, min_impurity_split=None,\n",
      "           min_samples_leaf=10, min_samples_split=2,\n",
      "           min_weight_fraction_leaf=0.0, n_estimators=1, n_jobs=None,\n",
      "           oob_score=False, random_state=None, verbose=0, warm_start=False)\n",
      "Partitioning 'x not latitude': 1383 nodes in (first) tree, 1 trees, 692 total leaves\n"
     ]
    }
   ],
   "source": [
    "Xbetas = nouveau(X, y, 'latitude', nbins=3)\n",
    "Xbetas#[0:30]"
   ]
  },
  {
   "cell_type": "markdown",
   "metadata": {},
   "source": [
    "# New discrete"
   ]
  },
  {
   "cell_type": "code",
   "execution_count": 166,
   "metadata": {},
   "outputs": [],
   "source": [
    "# fake\n",
    "# df_rent = pd.DataFrame()\n",
    "# df_rent['bedrooms'] = np.array([1,1, 2,2,   3, 9,9])\n",
    "# df_rent['price'] = np.array([5,5, 6,6.4, 9, 7,7.2])\n",
    "# X = df_rent.drop('price', axis=1)\n",
    "# y = df_rent['price']\n",
    "# df_rent"
   ]
  },
  {
   "cell_type": "code",
   "execution_count": 348,
   "metadata": {},
   "outputs": [],
   "source": [
    "df_rent = load_rent()\n",
    "df_rent = df_rent[-50:]  # get a small subsample since SVM is slowwww\n",
    "df_rent['latitude'] = (df_rent['latitude']-40)*100 # shift so easier to read\n",
    "df_rent.head(3)\n",
    "X = df_rent.drop('price', axis=1)\n",
    "y = df_rent['price']"
   ]
  },
  {
   "cell_type": "code",
   "execution_count": 342,
   "metadata": {},
   "outputs": [
    {
     "name": "stdout",
     "output_type": "stream",
     "text": [
      "Partitioning 'x not bedrooms': 7 nodes in (first) tree, 1 trees, 4 total leaves\n",
      "leaf_bin_slopes [1706.42857143  191.9047619   106.66666667 1845.        ]\n",
      "leaf_bin_xranges [[0 1]\n",
      " [1 2]\n",
      " [2 3]\n",
      " [3 4]]\n",
      "leaf_bin_slopes [1073.0952381  3477.32142857 -775.41666667]\n",
      "leaf_bin_xranges [[0 1]\n",
      " [1 2]\n",
      " [2 3]]\n",
      "leaf_bin_slopes [529.33333333 199.5       ]\n",
      "leaf_bin_xranges [[0 1]\n",
      " [1 3]]\n",
      "leaf_bin_slopes [1496.66666667 -673.33333333 1323.        ]\n",
      "leaf_bin_xranges [[0 1]\n",
      " [1 2]\n",
      " [2 3]]\n",
      "leaf_slopes [1706.4285714285716, 191.90476190476193, 106.66666666666652, 1845.0, 1073.095238095238, 3477.3214285714284, -775.416666666667, 529.3333333333335, 199.5, 1496.6666666666665, -673.333333333333, 1323.0]\n",
      "leaf_xranges [array([0, 1]), array([1, 2]), array([2, 3]), array([3, 4]), array([0, 1]), array([1, 2]), array([2, 3]), array([0, 1]), array([1, 3]), array([0, 1]), array([1, 2]), array([2, 3])]\n"
     ]
    }
   ],
   "source": [
    "colname='bedrooms'\n",
    "rf = RandomForestRegressor(n_estimators=1,\n",
    "                           min_samples_leaf=10,\n",
    "                           bootstrap = False,\n",
    "                           max_features = 1.0)\n",
    "rf.fit(X.drop(colname, axis=1), y)\n",
    "leaves = leaf_samples(rf, X.drop(colname, axis=1))\n",
    "nnodes = rf.estimators_[0].tree_.node_count\n",
    "print(f\"Partitioning 'x not {colname}': {nnodes} nodes in (first) tree, \"\n",
    "      f\"{len(rf.estimators_)} trees, {len(leaves)} total leaves\")\n",
    "\n",
    "leaf_slopes = []\n",
    "leaf_xranges = []\n",
    "maxx = max(X[colname])\n",
    "bin_betas = np.full(shape=(maxx+1,len(leaves)), fill_value=np.nan)\n",
    "bin_counts = np.zeros(shape=(maxx+1,len(leaves)))\n",
    "for li,samples in enumerate(leaves): # samples is set of obs indexes that live in a single leaf\n",
    "    leaf_all_x = X.iloc[samples]\n",
    "    leaf_x = leaf_all_x[colname].values\n",
    "    leaf_y = y.iloc[samples].values\n",
    "\n",
    "    bcount = np.bincount(leaf_x)\n",
    "    bsum = np.bincount(leaf_x, weights=leaf_y) # sum ys for each values of x\n",
    "    binavgs = bsum / bcount\n",
    "    bins = np.nonzero(bsum)[0]\n",
    "    binavgs = binavgs[bins]\n",
    "#     print()\n",
    "#     print('leaf_x',list(leaf_x))\n",
    "#     print('bcount',bcount)\n",
    "#     print('bsum',bsum)\n",
    "#     print('bins', bins)\n",
    "#     print('binavgs',binavgs)\n",
    "\n",
    "    bin_deltas = np.diff(bins)\n",
    "    y_deltas = np.diff(binavgs)\n",
    "    leaf_bin_slopes = y_deltas / bin_deltas  # \"rise over run\"\n",
    "    leaf_slopes.extend(leaf_bin_slopes)\n",
    "    print('leaf_bin_slopes', leaf_bin_slopes)\n",
    "    leaf_bin_xranges = np.array(list(zip(bins, bins[1:])))\n",
    "    print('leaf_bin_xranges',leaf_bin_xranges)\n",
    "    leaf_xranges.extend(leaf_bin_xranges)\n",
    "#     print('bin_deltas',bin_deltas)\n",
    "#     print('y_deltas', y_deltas)\n",
    "#     print('leaf_slopes',leaf_slopes)\n",
    "#     print(leaf_xranges)\n",
    "    leaf_betas = np.full(shape=(maxx+1,), fill_value=np.nan)\n",
    "    leaf_betas[bins[:-1]] = leaf_bin_slopes\n",
    "    bin_betas[:,li] = leaf_betas\n",
    "    leaf_counts = np.zeros(shape=(maxx+1,))\n",
    "    leaf_counts[bins] = bcount[bins]\n",
    "    bin_counts[:,li] = leaf_counts\n",
    "# print('bin_betas', bin_betas)\n",
    "# print('bin_counts', bin_counts)\n",
    "print('leaf_slopes',leaf_slopes)\n",
    "print('leaf_xranges',leaf_xranges)"
   ]
  },
  {
   "cell_type": "code",
   "execution_count": 312,
   "metadata": {},
   "outputs": [
    {
     "data": {
      "text/plain": [
       "array([[1706.42857143, 1073.0952381 ,  529.33333333, 1496.66666667],\n",
       "       [ 191.9047619 , 3477.32142857,  199.5       , -673.33333333],\n",
       "       [ 106.66666667, -775.41666667,           nan, 1323.        ],\n",
       "       [1845.        ,           nan,           nan,           nan],\n",
       "       [          nan,           nan,           nan,           nan]])"
      ]
     },
     "execution_count": 312,
     "metadata": {},
     "output_type": "execute_result"
    }
   ],
   "source": [
    "bin_betas"
   ]
  },
  {
   "cell_type": "code",
   "execution_count": 336,
   "metadata": {},
   "outputs": [
    {
     "name": "stdout",
     "output_type": "stream",
     "text": [
      "[   0.         1201.38095238  798.84821429  218.08333333 1845.        ]\n",
      "0.000,  0.0,  0.0\n",
      "1.000,1201.4,1201.4\n",
      "2.000,2000.2,798.8\n",
      "3.000,2218.3,218.1\n",
      "4.000,4063.3,1845.0\n",
      "[0.0, 1201.3809523809523, 2000.2291666666665, 2218.3124999999995, 4063.3124999999995]\n"
     ]
    }
   ],
   "source": [
    "avg_slopes_per_bin = np.nanmean(bin_betas, axis=1)\n",
    "\n",
    "pdpx = np.arange(0,maxx+1)\n",
    "\n",
    "avg_slopes_per_bin_ = np.concatenate([np.array([0]), avg_slopes_per_bin[:-1]]) # drop last one and put 0 at front\n",
    "print(avg_slopes_per_bin_)\n",
    "plot_y = []\n",
    "cumslope = 0.0\n",
    "for x, slope in zip(pdpx, avg_slopes_per_bin_):\n",
    "    if np.isnan(slope):\n",
    "        print(f\"{x:5.3f},{cumslope:5.1f},{slope:5.1f} SKIP\")\n",
    "        continue\n",
    "    cumslope += slope\n",
    "    plot_y.append(cumslope)\n",
    "    print(f\"{x:5.3f},{cumslope:5.1f},{slope:5.1f}\")\n",
    "print(plot_y)"
   ]
  },
  {
   "cell_type": "code",
   "execution_count": 334,
   "metadata": {},
   "outputs": [
    {
     "data": {
      "text/plain": [
       "([<matplotlib.axis.XTick at 0x1a4749ef98>,\n",
       "  <matplotlib.axis.XTick at 0x1a4749e8d0>,\n",
       "  <matplotlib.axis.XTick at 0x1a4749e080>,\n",
       "  <matplotlib.axis.XTick at 0x1a441aa2b0>,\n",
       "  <matplotlib.axis.XTick at 0x1a441aa6d8>],\n",
       " <a list of 5 Text xticklabel objects>)"
      ]
     },
     "execution_count": 334,
     "metadata": {},
     "output_type": "execute_result"
    },
    {
     "data": {
      "image/png": "[encoded data removed]",
      "text/plain": [
       "<Figure size 432x288 with 1 Axes>"
      ]
     },
     "metadata": {
      "needs_background": "light"
     },
     "output_type": "display_data"
    }
   ],
   "source": [
    "plt.scatter(pdpx, plot_y)\n",
    "plt.xticks(pdpx)"
   ]
  },
  {
   "cell_type": "markdown",
   "metadata": {},
   "source": [
    "## ugh, can't use floats for discrete, try groupby again?"
   ]
  },
  {
   "cell_type": "code",
   "execution_count": 372,
   "metadata": {},
   "outputs": [
    {
     "data": {
      "text/html": [
       "<div>\n",
       "<style scoped>\n",
       "    .dataframe tbody tr th:only-of-type {\n",
       "        vertical-align: middle;\n",
       "    }\n",
       "\n",
       "    .dataframe tbody tr th {\n",
       "        vertical-align: top;\n",
       "    }\n",
       "\n",
       "    .dataframe thead th {\n",
       "        text-align: right;\n",
       "    }\n",
       "</style>\n",
       "<table border=\"1\" class=\"dataframe\">\n",
       "  <thead>\n",
       "    <tr style=\"text-align: right;\">\n",
       "      <th></th>\n",
       "      <th>x</th>\n",
       "      <th>y</th>\n",
       "    </tr>\n",
       "  </thead>\n",
       "  <tbody>\n",
       "    <tr>\n",
       "      <th>11649</th>\n",
       "      <td>1.0</td>\n",
       "      <td>3995</td>\n",
       "    </tr>\n",
       "    <tr>\n",
       "      <th>20831</th>\n",
       "      <td>1.0</td>\n",
       "      <td>2700</td>\n",
       "    </tr>\n",
       "    <tr>\n",
       "      <th>3294</th>\n",
       "      <td>2.0</td>\n",
       "      <td>4300</td>\n",
       "    </tr>\n",
       "    <tr>\n",
       "      <th>37112</th>\n",
       "      <td>1.0</td>\n",
       "      <td>2150</td>\n",
       "    </tr>\n",
       "    <tr>\n",
       "      <th>35982</th>\n",
       "      <td>1.0</td>\n",
       "      <td>2350</td>\n",
       "    </tr>\n",
       "  </tbody>\n",
       "</table>\n",
       "</div>"
      ],
      "text/plain": [
       "         x     y\n",
       "11649  1.0  3995\n",
       "20831  1.0  2700\n",
       "3294   2.0  4300\n",
       "37112  1.0  2150\n",
       "35982  1.0  2350"
      ]
     },
     "execution_count": 372,
     "metadata": {},
     "output_type": "execute_result"
    }
   ],
   "source": [
    "df_rent = load_rent()\n",
    "df_rent = df_rent[-100:]  # get a small subsample since SVM is slowwww\n",
    "#df_rent['latitude'] = (df_rent['latitude']-40)*100 # shift so easier to read\n",
    "\n",
    "colname = 'bathrooms'\n",
    "xy = pd.concat([df_rent[colname], df_rent['price']], axis=1)\n",
    "\n",
    "xy.columns = ['x', 'y']\n",
    "xy.head(5)"
   ]
  },
  {
   "cell_type": "code",
   "execution_count": 373,
   "metadata": {},
   "outputs": [
    {
     "data": {
      "text/html": [
       "<div>\n",
       "<style scoped>\n",
       "    .dataframe tbody tr th:only-of-type {\n",
       "        vertical-align: middle;\n",
       "    }\n",
       "\n",
       "    .dataframe tbody tr th {\n",
       "        vertical-align: top;\n",
       "    }\n",
       "\n",
       "    .dataframe thead th {\n",
       "        text-align: right;\n",
       "    }\n",
       "</style>\n",
       "<table border=\"1\" class=\"dataframe\">\n",
       "  <thead>\n",
       "    <tr style=\"text-align: right;\">\n",
       "      <th></th>\n",
       "      <th>x</th>\n",
       "      <th>y</th>\n",
       "    </tr>\n",
       "  </thead>\n",
       "  <tbody>\n",
       "    <tr>\n",
       "      <th>0</th>\n",
       "      <td>1.0</td>\n",
       "      <td>3148.011364</td>\n",
       "    </tr>\n",
       "    <tr>\n",
       "      <th>1</th>\n",
       "      <td>2.0</td>\n",
       "      <td>5176.636364</td>\n",
       "    </tr>\n",
       "    <tr>\n",
       "      <th>2</th>\n",
       "      <td>3.5</td>\n",
       "      <td>5495.000000</td>\n",
       "    </tr>\n",
       "  </tbody>\n",
       "</table>\n",
       "</div>"
      ],
      "text/plain": [
       "     x            y\n",
       "0  1.0  3148.011364\n",
       "1  2.0  5176.636364\n",
       "2  3.5  5495.000000"
      ]
     },
     "execution_count": 373,
     "metadata": {},
     "output_type": "execute_result"
    }
   ],
   "source": [
    "df_avg = xy.groupby('x').mean().reset_index()\n",
    "x = df_avg['x'].values\n",
    "y = df_avg['y'].values\n",
    "# wack one\n",
    "#df_avg.iloc[3,:] = [3,np.nan]\n",
    "df_avg"
   ]
  },
  {
   "cell_type": "code",
   "execution_count": 380,
   "metadata": {},
   "outputs": [],
   "source": [
    "uniq_x = x\n",
    "bin_deltas = np.diff(uniq_x)\n",
    "y_deltas = np.diff(y)\n",
    "leaf_slopes = y_deltas / bin_deltas  # \"rise over run\"\n",
    "leaf_xranges = np.array(list(zip(uniq_x, uniq_x[1:])))\n",
    "leaf_sizes = xy['x'].value_counts().sort_index().values"
   ]
  },
  {
   "cell_type": "code",
   "execution_count": 379,
   "metadata": {},
   "outputs": [
    {
     "data": {
      "text/plain": [
       "array([1. , 1.5])"
      ]
     },
     "execution_count": 379,
     "metadata": {},
     "output_type": "execute_result"
    }
   ],
   "source": [
    "bin_deltas"
   ]
  },
  {
   "cell_type": "code",
   "execution_count": 376,
   "metadata": {},
   "outputs": [
    {
     "data": {
      "text/plain": [
       "array([[1. , 2. ],\n",
       "       [2. , 3.5]])"
      ]
     },
     "execution_count": 376,
     "metadata": {},
     "output_type": "execute_result"
    }
   ],
   "source": [
    "leaf_xranges"
   ]
  },
  {
   "cell_type": "code",
   "execution_count": 377,
   "metadata": {},
   "outputs": [
    {
     "data": {
      "text/plain": [
       "array([2028.625     ,  212.24242424])"
      ]
     },
     "execution_count": 377,
     "metadata": {},
     "output_type": "execute_result"
    }
   ],
   "source": [
    "leaf_slopes"
   ]
  },
  {
   "cell_type": "code",
   "execution_count": 378,
   "metadata": {},
   "outputs": [
    {
     "data": {
      "text/plain": [
       "array([2028.625     ,  318.36363636])"
      ]
     },
     "execution_count": 378,
     "metadata": {},
     "output_type": "execute_result"
    }
   ],
   "source": [
    "y_deltas"
   ]
  },
  {
   "cell_type": "code",
   "execution_count": null,
   "metadata": {},
   "outputs": [],
   "source": []
  }
 ],
 "metadata": {
  "kernelspec": {
   "display_name": "Python 3",
   "language": "python",
   "name": "python3"
  },
  "language_info": {
   "codemirror_mode": {
    "name": "ipython",
    "version": 3
   },
   "file_extension": ".py",
   "mimetype": "text/x-python",
   "name": "python",
   "nbconvert_exporter": "python",
   "pygments_lexer": "ipython3",
   "version": "3.7.1"
  }
 },
 "nbformat": 4,
 "nbformat_minor": 2
}
