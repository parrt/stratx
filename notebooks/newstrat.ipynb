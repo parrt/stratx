{
 "cells": [
  {
   "cell_type": "code",
   "execution_count": 1,
   "metadata": {},
   "outputs": [],
   "source": [
    "import numpy as np\n",
    "import pandas as pd\n",
    "from typing import Mapping, List, Tuple\n",
    "from collections import defaultdict\n",
    "import matplotlib.pyplot as plt\n",
    "from sklearn.linear_model import LinearRegression, Lasso\n",
    "from sklearn.ensemble import RandomForestClassifier\n",
    "from sklearn.ensemble import RandomForestRegressor\n",
    "from sklearn.datasets import load_boston, load_iris, load_wine, load_digits, \\\n",
    "    load_breast_cancer, load_diabetes, fetch_mldata\n",
    "from  matplotlib.collections import LineCollection\n",
    "import time\n",
    "from pandas.api.types import is_string_dtype, is_object_dtype, is_categorical_dtype, is_bool_dtype\n",
    "from sklearn.ensemble.partial_dependence import partial_dependence, plot_partial_dependence\n",
    "from pdpbox import pdp\n",
    "from rfpimp import *\n",
    "from scipy.integrate import cumtrapz\n",
    "# from stratx.plot import *\n",
    "# from stratx.ice import *\n",
    "\n",
    "%config InlineBackend.figure_formats = ['png']\n",
    "\n",
    "def df_string_to_cat(df:pd.DataFrame) -> dict:\n",
    "    catencoders = {}\n",
    "    for colname in df.columns:\n",
    "        if is_string_dtype(df[colname]) or is_object_dtype(df[colname]):\n",
    "            df[colname] = df[colname].astype('category').cat.as_ordered()\n",
    "            catencoders[colname] = df[colname].cat.categories\n",
    "    return catencoders\n",
    "\n",
    "\n",
    "def df_cat_to_catcode(df):\n",
    "    for col in df.columns:\n",
    "        if is_categorical_dtype(df[col]):\n",
    "            df[col] = df[col].cat.codes + 1"
   ]
  },
  {
   "cell_type": "code",
   "execution_count": 2,
   "metadata": {},
   "outputs": [],
   "source": [
    "def load_rent():\n",
    "    \"\"\"\n",
    "    *Data use rules prevent us from storing this data in this repo*. Download the data\n",
    "    set from Kaggle. (You must be a registered Kaggle user and must be logged in.)\n",
    "    Go to the Kaggle [data page](https://www.kaggle.com/c/two-sigma-connect-rental-listing-inquiries/data)\n",
    "    and save `train.json`\n",
    "    :return:\n",
    "    \"\"\"\n",
    "    df = pd.read_json('data/train.json')\n",
    "\n",
    "    # Create ideal numeric data set w/o outliers etc...\n",
    "    df = df[(df.price > 1_000) & (df.price < 10_000)]\n",
    "    df = df[df.bathrooms <= 4]  # There's almost no data for above with small sample\n",
    "    df = df[(df.longitude != 0) | (df.latitude != 0)]\n",
    "    df = df[(df['latitude'] > 40.55) & (df['latitude'] < 40.94) &\n",
    "            (df['longitude'] > -74.1) & (df['longitude'] < -73.67)]\n",
    "    df = df.sort_values('created')\n",
    "    df_rent = df[['bedrooms', 'bathrooms', 'latitude', 'longitude', 'price']]\n",
    "\n",
    "    return df_rent"
   ]
  },
  {
   "cell_type": "code",
   "execution_count": 3,
   "metadata": {},
   "outputs": [],
   "source": [
    "def leaf_samples(rf, X:np.ndarray):\n",
    "    \"\"\"\n",
    "    Return a list of arrays where each array is the set of X sample indexes\n",
    "    residing in a single leaf of some tree in rf forest.\n",
    "    \"\"\"\n",
    "    ntrees = len(rf.estimators_)\n",
    "    leaf_ids = rf.apply(X) # which leaf does each X_i go to for each tree?\n",
    "    d = pd.DataFrame(leaf_ids, columns=[f\"tree{i}\" for i in range(ntrees)])\n",
    "    d = d.reset_index() # get 0..n-1 as column called index so we can do groupby\n",
    "    \"\"\"\n",
    "    d looks like:\n",
    "        index\ttree0\ttree1\ttree2\ttree3\ttree4\n",
    "    0\t0\t    8\t    3\t    4\t    4\t    3\n",
    "    1\t1\t    8\t    3\t    4\t    4\t    3\n",
    "    \"\"\"\n",
    "    leaf_samples = []\n",
    "    for i in range(ntrees):\n",
    "        \"\"\"\n",
    "        Each groupby gets a list of all X indexes associated with same leaf. 4 leaves would\n",
    "        get 4 arrays of X indexes; e.g.,\n",
    "        array([array([0, 1, 2, 3, 4, 5, 6, 7, 8, 9]),\n",
    "               array([10, 11, 12, 13, 14, 15]), array([16, 17, 18, 19, 20]),\n",
    "               array([21, 22, 23, 24, 25, 26, 27, 28, 29]), ... )\n",
    "        \"\"\"\n",
    "        sample_idxs_in_leaf = d.groupby(f'tree{i}')['index'].apply(lambda x: x.values)\n",
    "        leaf_samples.extend(sample_idxs_in_leaf) # add [...sample idxs...] for each leaf\n",
    "    return leaf_samples"
   ]
  },
  {
   "cell_type": "code",
   "execution_count": 309,
   "metadata": {},
   "outputs": [
    {
     "data": {
      "text/html": [
       "<div>\n",
       "<style scoped>\n",
       "    .dataframe tbody tr th:only-of-type {\n",
       "        vertical-align: middle;\n",
       "    }\n",
       "\n",
       "    .dataframe tbody tr th {\n",
       "        vertical-align: top;\n",
       "    }\n",
       "\n",
       "    .dataframe thead th {\n",
       "        text-align: right;\n",
       "    }\n",
       "</style>\n",
       "<table border=\"1\" class=\"dataframe\">\n",
       "  <thead>\n",
       "    <tr style=\"text-align: right;\">\n",
       "      <th></th>\n",
       "      <th>bedrooms</th>\n",
       "      <th>bathrooms</th>\n",
       "      <th>latitude</th>\n",
       "      <th>longitude</th>\n",
       "      <th>price</th>\n",
       "    </tr>\n",
       "  </thead>\n",
       "  <tbody>\n",
       "    <tr>\n",
       "      <th>41892</th>\n",
       "      <td>2</td>\n",
       "      <td>2.0</td>\n",
       "      <td>78.43</td>\n",
       "      <td>-73.9703</td>\n",
       "      <td>8500</td>\n",
       "    </tr>\n",
       "    <tr>\n",
       "      <th>8922</th>\n",
       "      <td>4</td>\n",
       "      <td>1.0</td>\n",
       "      <td>74.01</td>\n",
       "      <td>-73.9894</td>\n",
       "      <td>5700</td>\n",
       "    </tr>\n",
       "    <tr>\n",
       "      <th>12961</th>\n",
       "      <td>3</td>\n",
       "      <td>2.0</td>\n",
       "      <td>77.70</td>\n",
       "      <td>-73.9817</td>\n",
       "      <td>7500</td>\n",
       "    </tr>\n",
       "  </tbody>\n",
       "</table>\n",
       "</div>"
      ],
      "text/plain": [
       "       bedrooms  bathrooms  latitude  longitude  price\n",
       "41892         2        2.0     78.43   -73.9703   8500\n",
       "8922          4        1.0     74.01   -73.9894   5700\n",
       "12961         3        2.0     77.70   -73.9817   7500"
      ]
     },
     "execution_count": 309,
     "metadata": {},
     "output_type": "execute_result"
    }
   ],
   "source": [
    "df_rent = load_rent()\n",
    "df_rent = df_rent[-30:]  # get a small subsample since SVM is slowwww\n",
    "df_rent['latitude'] = (df_rent['latitude']-40)*100 # shift so easier to read\n",
    "df_rent.head(3)"
   ]
  },
  {
   "cell_type": "code",
   "execution_count": 310,
   "metadata": {},
   "outputs": [],
   "source": [
    "X = df_rent.drop('price', axis=1)\n",
    "y = df_rent['price']"
   ]
  },
  {
   "cell_type": "code",
   "execution_count": 311,
   "metadata": {},
   "outputs": [],
   "source": [
    "def bar(X, y, colname, leaves):\n",
    "    point_betas = np.full(shape=(len(X),), fill_value=np.nan)\n",
    "    for samples in leaves: # samples is set of obs indexes that live in a single leaf\n",
    "        leaf_all_x = X.iloc[samples]\n",
    "        leaf_x = leaf_all_x[colname].values\n",
    "        leaf_y = y.iloc[samples].values\n",
    "        # Right edge of last bin is max(leaf_x) but that means we ignore the last value\n",
    "        # every time. Tweak domain right edge a bit so max(leaf_x) falls in last bin.\n",
    "        last_bin_extension = 0.0000001\n",
    "        domain = (np.min(leaf_x), np.max(leaf_x)+last_bin_extension)\n",
    "        bins = np.linspace(*domain, num=nbins+1, endpoint=True)\n",
    "#         print('bins', bins)\n",
    "        binned_idx = np.digitize(leaf_x, bins) # bin number for values in leaf_x\n",
    "#         print(leaf_x, '->', leaf_y)\n",
    "#         print(f\"leaf samples: {samples}, binned_idx: {binned_idx}\")\n",
    "        for b in range(1, len(bins)+1):\n",
    "            bin_x = leaf_x[binned_idx == b]\n",
    "            bin_y = leaf_y[binned_idx == b]\n",
    "            bin_obs_idx = np.digitize(bin_x, bins) # bin number for values in leaf_x\n",
    "            if len(bin_x)<2: # either no or too little data\n",
    "    #             print(f'ignoring {bin_x} -> {bin_y}')\n",
    "                continue\n",
    "            r = (np.min(bin_x), np.max(bin_x))\n",
    "            if np.isclose(r[0], r[1]):\n",
    "    #             print(f'ignoring {bin_x} -> {bin_y} for same range')\n",
    "                continue\n",
    "            lm = LinearRegression()\n",
    "    #         bin_x = bin_x.reshape(-1, 1)\n",
    "            leaf_obs_idx_for_bin = np.nonzero((leaf_x>=bins[b-1]) &(leaf_x<bins[b]))\n",
    "            leaf_x_in_bin = leaf_x[leaf_obs_idx_for_bin]\n",
    "            obs_idx = samples[leaf_obs_idx_for_bin]\n",
    "#             print(\"\\tx in range\", leaf_x_in_bin, leaf_obs_idx_for_bin, \"obs idx\", obs_idx)\n",
    "            lm.fit(bin_x.reshape(-1, 1), bin_y)\n",
    "#             print(f'\\tbin{b}', bin_x, '->', bin_y, 'beta', lm.coef_[0])\n",
    "            point_betas[obs_idx] = lm.coef_[0]\n",
    "    return point_betas\n",
    "\n",
    "def foo(X, y, colname, ntrees = 1, min_samples_leaf=10, bootstrap=False, max_features=1.0, nbins=2):\n",
    "    rf = RandomForestRegressor(n_estimators=ntrees,\n",
    "                               min_samples_leaf=min_samples_leaf,\n",
    "                               bootstrap = bootstrap,\n",
    "                               max_features = max_features)\n",
    "    rf.fit(X.drop(colname, axis=1), y)\n",
    "    leaves = leaf_samples(rf, X.drop(colname, axis=1))\n",
    "    nnodes = rf.estimators_[0].tree_.node_count\n",
    "    print(f\"Partitioning 'x not {colname}': {nnodes} nodes in (first) tree, \"\n",
    "          f\"{len(rf.estimators_)} trees, {len(leaves)} total leaves\")\n",
    "\n",
    "    point_betas = bar(X, y, colname, leaves)\n",
    "    Xbetas = np.vstack([X[colname].values, point_betas]).T # get x_c, beta matrix\n",
    "    Xbetas = Xbetas[Xbetas[:,0].argsort()] # sort by x coordinate\n",
    "    return Xbetas"
   ]
  },
  {
   "cell_type": "code",
   "execution_count": 323,
   "metadata": {},
   "outputs": [
    {
     "name": "stdout",
     "output_type": "stream",
     "text": [
      "Partitioning 'x not latitude': 3 nodes in (first) tree, 1 trees, 2 total leaves\n"
     ]
    },
    {
     "data": {
      "text/plain": [
       "array([[  70.74      ,  502.54548165],\n",
       "       [  71.56      ,  502.54548165],\n",
       "       [  71.56      ,  502.54548165],\n",
       "       [  71.97      ,  502.54548165],\n",
       "       [  72.57      ,  303.07791349],\n",
       "       [  72.61      ,  502.54548165],\n",
       "       [  73.56      ,  303.07791349],\n",
       "       [  73.58      ,  303.07791349],\n",
       "       [  73.77      ,  502.54548165],\n",
       "       [  74.01      ,  502.54548165],\n",
       "       [  74.13      ,  303.07791349],\n",
       "       [  74.39      ,  303.07791349],\n",
       "       [  74.39      ,  303.07791349],\n",
       "       [  74.65      ,  303.07791349],\n",
       "       [  74.74      ,  303.07791349],\n",
       "       [  75.06      ,  303.07791349],\n",
       "       [  75.12      ,  303.07791349],\n",
       "       [  75.21      ,  303.07791349],\n",
       "       [  75.56      ,  303.07791349],\n",
       "       [  75.97      ,  303.07791349],\n",
       "       [  77.7       , -700.71455124],\n",
       "       [  77.7       ,  -68.59069779],\n",
       "       [  77.77      ,  -68.59069779],\n",
       "       [  78.09      , -700.71455124],\n",
       "       [  78.43      , -700.71455124],\n",
       "       [  78.56      ,  -68.59069779],\n",
       "       [  79.36      ,  -68.59069779],\n",
       "       [  79.59      , -700.71455124],\n",
       "       [  80.34      , -700.71455124],\n",
       "       [  80.78      ,  -68.59069779]])"
      ]
     },
     "execution_count": 323,
     "metadata": {},
     "output_type": "execute_result"
    }
   ],
   "source": [
    "Xbetas = foo(X, y, 'latitude', nbins=2)\n",
    "Xbetas#[0:30]"
   ]
  },
  {
   "cell_type": "code",
   "execution_count": 324,
   "metadata": {},
   "outputs": [
    {
     "data": {
      "text/plain": [
       "array([70.74, 71.56, 71.97, 72.57, 72.61, 73.56, 73.58, 73.77, 74.01,\n",
       "       74.13, 74.39, 74.65, 74.74, 75.06, 75.12, 75.21, 75.56, 75.97,\n",
       "       77.7 , 77.77, 78.09, 78.43, 78.56, 79.36, 79.59, 80.34, 80.78])"
      ]
     },
     "execution_count": 324,
     "metadata": {},
     "output_type": "execute_result"
    }
   ],
   "source": [
    "np.unique(Xbetas[:,0])"
   ]
  },
  {
   "cell_type": "code",
   "execution_count": 325,
   "metadata": {},
   "outputs": [
    {
     "name": "stdout",
     "output_type": "stream",
     "text": [
      "70.73999999999998 286.6427408242391\n",
      "71.5600000000002 287.05274082423927\n",
      "71.97000000000031 287.2577408242393\n",
      "72.57000000000033 187.82395674561516\n",
      "72.61000000000024 287.5777408242393\n",
      "73.5599999999998 188.3189567456149\n",
      "73.57999999999976 188.32895674561487\n",
      "73.76999999999967 288.157740824239\n",
      "74.00999999999982 288.27774082423906\n",
      "74.13000000000025 188.6039567456151\n",
      "74.38999999999965 188.73395674561482\n",
      "74.64999999999975 188.86395674561487\n",
      "74.7399999999999 188.90895674561494\n",
      "75.05999999999986 189.0689567456149\n",
      "75.11999999999972 189.09895674561486\n",
      "75.20999999999987 189.14395674561493\n",
      "75.56000000000012 189.31895674561505\n",
      "75.97000000000023 189.52395674561512\n",
      "77.7000000000001 -153.47631225626571\n",
      "77.7700000000003 4.5896511060034655\n",
      "78.09000000000026 -311.31227561853467\n",
      "78.43000000000018 -311.1422756185347\n",
      "78.56000000000023 4.984651106003433\n",
      "79.35999999999979 5.384651106003211\n",
      "79.59000000000032 -310.5622756185346\n",
      "80.34000000000034 -310.1872756185346\n",
      "80.78000000000003 6.094651106003333\n"
     ]
    }
   ],
   "source": [
    "for x in np.unique(Xbetas[:,0]):\n",
    "    print(x, np.nanmean(Xbetas[Xbetas[:,0]==x]))"
   ]
  },
  {
   "cell_type": "code",
   "execution_count": 334,
   "metadata": {},
   "outputs": [
    {
     "name": "stdout",
     "output_type": "stream",
     "text": [
      "bins      [70.74   70.9408 71.1416 71.3424 71.5432 71.744  71.9448 72.1456 72.3464\n",
      " 72.5472 72.748  72.9488 73.1496 73.3504 73.5512 73.752  73.9528 74.1536\n",
      " 74.3544 74.5552 74.756  74.9568 75.1576 75.3584 75.5592 75.76   75.9608\n",
      " 76.1616 76.3624 76.5632 76.764  76.9648 77.1656 77.3664 77.5672 77.768\n",
      " 77.9688 78.1696 78.3704 78.5712 78.772  78.9728 79.1736 79.3744 79.5752\n",
      " 79.776  79.9768 80.1776 80.3784 80.5792 80.78  ] , deltas [0.2008 0.2008 0.2008 0.2008 0.2008 0.2008 0.2008 0.2008 0.2008 0.2008\n",
      " 0.2008 0.2008 0.2008 0.2008 0.2008 0.2008 0.2008 0.2008 0.2008 0.2008\n",
      " 0.2008 0.2008 0.2008 0.2008 0.2008 0.2008 0.2008 0.2008 0.2008 0.2008\n",
      " 0.2008 0.2008 0.2008 0.2008 0.2008 0.2008 0.2008 0.2008 0.2008 0.2008\n",
      " 0.2008 0.2008 0.2008 0.2008 0.2008 0.2008 0.2008 0.2008 0.2008 0.2008]\n",
      "avgslopes [ 502.54548165           nan           nan           nan  502.54548165\n",
      "           nan  502.54548165           nan           nan  402.81169757\n",
      "           nan           nan           nan           nan  303.07791349\n",
      "  502.54548165  402.81169757           nan  303.07791349  303.07791349\n",
      "           nan  303.07791349  303.07791349           nan  303.07791349\n",
      "           nan  303.07791349           nan           nan           nan\n",
      "           nan           nan           nan           nan -384.65262451\n",
      "  -68.59069779 -700.71455124           nan -384.65262451           nan\n",
      "           nan           nan  -68.59069779           nan -700.71455124\n",
      "           nan           nan -700.71455124           nan  -68.59069779]\n",
      "has_slope_info (array([ 0,  4,  6,  9, 14, 15, 16, 18, 19, 21, 22, 24, 26, 34, 35, 36, 38,\n",
      "       42, 44, 47, 49]),) no slope (array([ 1,  2,  3,  5,  7,  8, 10, 11, 12, 13, 17, 20, 23, 25, 27, 28, 29,\n",
      "       30, 31, 32, 33, 37, 39, 40, 41, 43, 45, 46, 48]),)\n",
      "bins      [70.74   71.5432 71.9448 72.5472 73.5512 73.752  73.9528 74.3544 74.5552\n",
      " 74.9568 75.1576 75.5592 75.9608 77.5672 77.768  77.9688 78.3704 79.1736\n",
      " 79.5752 80.1776 80.5792]\n",
      "avgslopes [ 502.54548165  502.54548165  502.54548165  402.81169757  303.07791349\n",
      "  502.54548165  402.81169757  303.07791349  303.07791349  303.07791349\n",
      "  303.07791349  303.07791349  303.07791349 -384.65262451  -68.59069779\n",
      " -700.71455124 -384.65262451  -68.59069779 -700.71455124 -700.71455124\n",
      "  -68.59069779]\n"
     ]
    },
    {
     "data": {
      "text/plain": [
       "array([  0.        , 100.91113272, 100.91113272, 100.91113272,\n",
       "       100.91113272, 201.82226543, 201.82226543, 302.73339815,\n",
       "       302.73339815, 302.73339815, 383.61798702, 383.61798702,\n",
       "       383.61798702, 383.61798702, 383.61798702, 444.47603205,\n",
       "       545.38716476, 626.27175363, 626.27175363, 687.12979866,\n",
       "       747.98784369, 747.98784369, 808.84588872, 869.70393375,\n",
       "       869.70393375, 930.56197878, 930.56197878, 991.42002381,\n",
       "       991.42002381, 991.42002381, 991.42002381, 991.42002381,\n",
       "       991.42002381, 991.42002381, 991.42002381, 914.18177681,\n",
       "       900.40876469, 759.7052828 , 759.7052828 , 682.4670358 ,\n",
       "       682.4670358 , 682.4670358 , 682.4670358 , 668.69402368,\n",
       "       668.69402368, 527.99054179, 527.99054179, 527.99054179,\n",
       "       387.28705991, 387.28705991, 373.51404779])"
      ]
     },
     "execution_count": 334,
     "metadata": {},
     "output_type": "execute_result"
    }
   ],
   "source": [
    "nbins2 = 50\n",
    "x = Xbetas[:,0]\n",
    "slopes = Xbetas[:,1]\n",
    "domain = (np.min(x), np.max(x)) # ignores any max(x) points as no slope info after that\n",
    "bins = np.linspace(*domain, num=nbins2+1, endpoint=True)\n",
    "# or use all unique values as bin edges\n",
    "#bins = np.array(sorted(np.unique(x)))\n",
    "binned_idx = np.digitize(x, bins) # bin number for values in leaf_x\n",
    "\n",
    "noinfo = np.isnan(Xbetas[:,1])\n",
    "Xbetas = Xbetas[~noinfo]\n",
    "\n",
    "from scipy.stats import binned_statistic\n",
    "avg_slopes_per_bin, _, _ = binned_statistic(x=Xbetas[:,0], values=Xbetas[:,1], bins=bins, statistic='mean')\n",
    "# avg_slopes_per_bin might have nan for empty bins\n",
    "bin_deltas = np.diff(bins)\n",
    "print('bins     ', bins, ', deltas', bin_deltas)\n",
    "print('avgslopes', avg_slopes_per_bin)\n",
    "has_slope_info = np.nonzero(~np.isnan(avg_slopes_per_bin))\n",
    "print('has_slope_info', has_slope_info, 'no slope', np.nonzero(np.isnan(avg_slopes_per_bin)))\n",
    "print('bins     ', bins[has_slope_info])\n",
    "print('avgslopes', avg_slopes_per_bin[has_slope_info])\n",
    "avg_slopes_per_bin *= bin_deltas\n",
    "curve = np.nancumsum(avg_slopes_per_bin)        # we lose one value here\n",
    "curve = np.concatenate([np.array([0]), curve])  # add back the 0 we lost\n",
    "curve"
   ]
  },
  {
   "cell_type": "code",
   "execution_count": 335,
   "metadata": {},
   "outputs": [
    {
     "data": {
      "text/plain": [
       "[<matplotlib.lines.Line2D at 0x1a2a40ac50>]"
      ]
     },
     "execution_count": 335,
     "metadata": {},
     "output_type": "execute_result"
    },
    {
     "data": {
      "image/png": "[encoded data removed]",
      "text/plain": [
       "<Figure size 432x288 with 1 Axes>"
      ]
     },
     "metadata": {
      "needs_background": "light"
     },
     "output_type": "display_data"
    }
   ],
   "source": [
    "plt.scatter(bins[has_slope_info], curve[has_slope_info], s=15)\n",
    "plt.plot(bins[has_slope_info], curve[has_slope_info], lw=.5)"
   ]
  },
  {
   "cell_type": "code",
   "execution_count": null,
   "metadata": {},
   "outputs": [],
   "source": []
  },
  {
   "cell_type": "code",
   "execution_count": null,
   "metadata": {},
   "outputs": [],
   "source": []
  },
  {
   "cell_type": "code",
   "execution_count": null,
   "metadata": {},
   "outputs": [],
   "source": []
  }
 ],
 "metadata": {
  "kernelspec": {
   "display_name": "Python 3",
   "language": "python",
   "name": "python3"
  },
  "language_info": {
   "codemirror_mode": {
    "name": "ipython",
    "version": 3
   },
   "file_extension": ".py",
   "mimetype": "text/x-python",
   "name": "python",
   "nbconvert_exporter": "python",
   "pygments_lexer": "ipython3",
   "version": "3.7.1"
  }
 },
 "nbformat": 4,
 "nbformat_minor": 2
}
